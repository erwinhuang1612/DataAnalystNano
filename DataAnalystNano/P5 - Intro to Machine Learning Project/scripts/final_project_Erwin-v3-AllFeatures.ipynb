{
 "cells": [
  {
   "cell_type": "markdown",
   "metadata": {},
   "source": [
    "# Identifying Fraud from Enron Email\n",
    "\n",
    "\n",
    "## Project Background \n",
    "\n",
    "Enron was one of the largest corporates in the United States. However, It went into bankruptcy due to widespread corporate fraud. In the subsequent investigation, significant amount of confidential information was published publicly. This includes emails and detailed financial data from top executives.\n",
    "\n",
    "For this project, we are going to make use of the Enron public data to create a machine learning model to classify whether a person in the Enron dataset is a person of interest (POI) for the Enron corporate fraud case. For more information of the Enron scandal, read here: https://en.wikipedia.org/wiki/Enron_scandal\n",
    "\n",
    "## Data Preparation"
   ]
  },
  {
   "cell_type": "code",
   "execution_count": 1,
   "metadata": {
    "collapsed": false
   },
   "outputs": [],
   "source": [
    "import pickle\n",
    "import sys\n",
    "import numpy\n",
    "import pandas\n",
    "import sklearn\n",
    "from time import time\n",
    "from copy import copy\n",
    "\n",
    "import matplotlib\n",
    "%matplotlib inline\n",
    "\n",
    "import warnings\n",
    "warnings.filterwarnings('ignore')\n",
    "\n",
    "sys.path.append(\"../tools/\")\n",
    "\n",
    "from tester import test_classifier, dump_classifier_and_data\n",
    "from feature_format import featureFormat, targetFeatureSplit\n",
    "\n",
    "import enron \n",
    "import evaluate\n",
    "\n",
    "numpy.random.seed(43)"
   ]
  },
  {
   "cell_type": "markdown",
   "metadata": {},
   "source": [
    "## Create features list"
   ]
  },
  {
   "cell_type": "code",
   "execution_count": 2,
   "metadata": {
    "collapsed": false
   },
   "outputs": [
    {
     "name": "stdout",
     "output_type": "stream",
     "text": [
      "{'salary': 1111258, 'to_messages': 3627, 'deferral_payments': 'NaN', 'total_payments': 8682716, 'exercised_stock_options': 19250000, 'bonus': 5600000, 'restricted_stock': 6843672, 'shared_receipt_with_poi': 2042, 'restricted_stock_deferred': 'NaN', 'total_stock_value': 26093672, 'expenses': 29336, 'loan_advances': 'NaN', 'from_messages': 108, 'other': 22122, 'from_this_person_to_poi': 30, 'poi': True, 'director_fees': 'NaN', 'deferred_income': 'NaN', 'long_term_incentive': 1920000, 'email_address': 'jeff.skilling@enron.com', 'from_poi_to_this_person': 88}\n"
     ]
    }
   ],
   "source": [
    "## Initiate features list\n",
    "features_list = ['poi', 'to_messages', 'salary',  'total_payments', 'total_stock_value',\n",
    "                 'deferral_payments', 'bonus', 'loan_advances', 'expenses', 'shared_receipt_with_poi',\n",
    "                 'restricted_stock_deferred', 'deferred_income', 'exercised_stock_options',\n",
    "                 'from_this_person_to_poi', 'from_poi_to_this_person', 'restricted_stock',   \n",
    "                 'other', 'long_term_incentive', 'from_messages', 'director_fees'] \n",
    "\n",
    "## Get POI file\n",
    "fpoi = open(\"poi_names.txt\", \"r\")\n",
    "\n",
    "### Get the dataset\n",
    "enron_data = pickle.load(open(\"final_project_dataset.pkl\", \"r\") )\n",
    "\n",
    "# Test print information of one recpr`d\n",
    "print enron_data[\"SKILLING JEFFREY K\"]"
   ]
  },
  {
   "cell_type": "markdown",
   "metadata": {},
   "source": [
    "## Number of Individuals in the dataset"
   ]
  },
  {
   "cell_type": "code",
   "execution_count": 3,
   "metadata": {
    "collapsed": false
   },
   "outputs": [
    {
     "name": "stdout",
     "output_type": "stream",
     "text": [
      "Number of individuals in the dataset: 146 individuals\n"
     ]
    }
   ],
   "source": [
    "individuals = len(enron_data)\n",
    "print \"Number of individuals in the dataset: \" + str(individuals) + \" individuals\""
   ]
  },
  {
   "cell_type": "markdown",
   "metadata": {},
   "source": [
    "## Number of Features in the dataset"
   ]
  },
  {
   "cell_type": "code",
   "execution_count": 4,
   "metadata": {
    "collapsed": false
   },
   "outputs": [
    {
     "name": "stdout",
     "output_type": "stream",
     "text": [
      "There are 21 features in the dataset.\n"
     ]
    }
   ],
   "source": [
    "features_length = len(enron_data['SKILLING JEFFREY K'])\n",
    "print \"There are \" + str(features_length) + \" features in the dataset.\""
   ]
  },
  {
   "cell_type": "markdown",
   "metadata": {},
   "source": [
    "## Number of POI's in the Dataset"
   ]
  },
  {
   "cell_type": "code",
   "execution_count": 5,
   "metadata": {
    "collapsed": false
   },
   "outputs": [
    {
     "name": "stdout",
     "output_type": "stream",
     "text": [
      "There are 18 poi's in the dataset.\n"
     ]
    }
   ],
   "source": [
    "def count_poi(file):\n",
    "    count = 0 \n",
    "    for person in file:\n",
    "        if file[person]['poi'] == True:\n",
    "            count += 1\n",
    "    print \"There are \" + str(count) + \" poi's in the dataset.\"\n",
    "\n",
    "count_poi(enron_data)"
   ]
  },
  {
   "cell_type": "markdown",
   "metadata": {},
   "source": [
    "## Number of POI's"
   ]
  },
  {
   "cell_type": "code",
   "execution_count": 6,
   "metadata": {
    "collapsed": false
   },
   "outputs": [
    {
     "name": "stdout",
     "output_type": "stream",
     "text": [
      "Number of POI's: 35 POI's\n"
     ]
    }
   ],
   "source": [
    "poi_file = open(\"poi_names.txt\", \"r\")\n",
    "rfile =poi_file.readlines()\n",
    "poi_length = len(rfile[2:])\n",
    "print \"Number of POI's: \" + str(poi_length) + \" POI's\""
   ]
  },
  {
   "cell_type": "markdown",
   "metadata": {},
   "source": [
    "## Detecting and Removing Outliers"
   ]
  },
  {
   "cell_type": "code",
   "execution_count": 7,
   "metadata": {
    "collapsed": false
   },
   "outputs": [
    {
     "data": {
      "image/png": "[encoded data removed]",
      "text/plain": [
       "<matplotlib.figure.Figure at 0xb8f7e80>"
      ]
     },
     "metadata": {},
     "output_type": "display_data"
    }
   ],
   "source": [
    "features = [\"bonus\", \"salary\"]\n",
    "data = featureFormat(enron_data, features)\n",
    "\n",
    "for point in data:\n",
    "    bonus = point[0]\n",
    "    salary = point[1]\n",
    "    matplotlib.pyplot.scatter( bonus, salary )\n",
    "\n",
    "matplotlib.pyplot.xlabel(\"bonus\")\n",
    "matplotlib.pyplot.ylabel(\"salary\")\n",
    "matplotlib.pyplot.show()"
   ]
  },
  {
   "cell_type": "markdown",
   "metadata": {},
   "source": [
    "From the chart above, we can see that there is an obvious outlier at the top right corner. Could this be an employee with very huge salary and bonus? We will explore it below."
   ]
  },
  {
   "cell_type": "code",
   "execution_count": 8,
   "metadata": {
    "collapsed": false
   },
   "outputs": [
    {
     "name": "stdout",
     "output_type": "stream",
     "text": [
      "[('TOTAL', 97343619),\n",
      " ('LAVORATO JOHN J', 8000000),\n",
      " ('LAY KENNETH L', 7000000),\n",
      " ('SKILLING JEFFREY K', 5600000),\n",
      " ('BELDEN TIMOTHY N', 5249999),\n",
      " ('ALLEN PHILLIP K', 4175000),\n",
      " ('KITCHEN LOUISE', 3100000),\n",
      " ('WHALLEY LAWRENCE G', 3000000),\n",
      " ('DELAINEY DAVID W', 3000000),\n",
      " ('MCMAHON JEFFREY', 2600000)]\n"
     ]
    }
   ],
   "source": [
    "from pprint import pprint\n",
    "outliers_in_bonus = []\n",
    "for key in enron_data:\n",
    "    val = enron_data[key]['bonus']\n",
    "    if val == 'NaN':\n",
    "        continue\n",
    "    outliers_in_bonus.append((key,int(val)))\n",
    "\n",
    "pprint(sorted(outliers_in_bonus,key=lambda x:x[1],reverse=True)[:10])"
   ]
  },
  {
   "cell_type": "markdown",
   "metadata": {},
   "source": [
    "We can see that the biggest outlier for \"Bonus\" feature is the total aggregation that often appears in a spreadsheet."
   ]
  },
  {
   "cell_type": "code",
   "execution_count": 9,
   "metadata": {
    "collapsed": false
   },
   "outputs": [
    {
     "name": "stdout",
     "output_type": "stream",
     "text": [
      "[('TOTAL', 26704229),\n",
      " ('SKILLING JEFFREY K', 1111258),\n",
      " ('LAY KENNETH L', 1072321),\n",
      " ('FREVERT MARK A', 1060932),\n",
      " ('PICKERING MARK R', 655037),\n",
      " ('WHALLEY LAWRENCE G', 510364),\n",
      " ('DERRICK JR. JAMES V', 492375),\n",
      " ('FASTOW ANDREW S', 440698),\n",
      " ('SHERRIFF JOHN R', 428780),\n",
      " ('RICE KENNETH D', 420636)]\n"
     ]
    }
   ],
   "source": [
    "outliers_in_salary = []\n",
    "for key in enron_data:\n",
    "    val = enron_data[key]['salary']\n",
    "    if val == 'NaN':\n",
    "        continue\n",
    "    outliers_in_salary.append((key,int(val)))\n",
    "\n",
    "pprint(sorted(outliers_in_salary,key=lambda x:x[1],reverse=True)[:10])"
   ]
  },
  {
   "cell_type": "code",
   "execution_count": 10,
   "metadata": {
    "collapsed": false
   },
   "outputs": [
    {
     "name": "stdout",
     "output_type": "stream",
     "text": [
      "One tricky record that is not an Enron employee:\n",
      "THE TRAVEL AGENCY IN THE PARK\n"
     ]
    }
   ],
   "source": [
    "##One tricky record that is not an Enron employee\n",
    "print \"One tricky record that is not an Enron employee:\"\n",
    "for key in enron_data:\n",
    "    if \"TRAVEL AGENCY\" in key:\n",
    "        print key"
   ]
  },
  {
   "cell_type": "markdown",
   "metadata": {},
   "source": [
    "As shown above, the major outlier is **TOTAL**. This is the total aggregation of all the records and thus, should be removed from the dataset.\n",
    "\n",
    "The other record **THE TRAVEL AGENCY IN THE PARK** is also an outlier as it is not an Enron employee. This record should be removed as well."
   ]
  },
  {
   "cell_type": "code",
   "execution_count": 11,
   "metadata": {
    "collapsed": false
   },
   "outputs": [
    {
     "data": {
      "image/png": "[encoded data removed]",
      "text/plain": [
       "<matplotlib.figure.Figure at 0xb8f7c50>"
      ]
     },
     "metadata": {},
     "output_type": "display_data"
    }
   ],
   "source": [
    "features = [\"salary\", \"bonus\"]\n",
    "\n",
    "##Remove the outliers mentioned above\n",
    "enron_data.pop('TOTAL',0)\n",
    "enron_data.pop('THE TRAVEL AGENCY IN THE PARK',0)\n",
    "\n",
    "my_dataset = copy(enron_data)\n",
    "my_feature_list = copy(features_list)\n",
    "\n",
    "data = featureFormat(enron_data, features)\n",
    "\n",
    "##Plot the cleaned data\n",
    "for point in data:\n",
    "    salary = point[0]\n",
    "    bonus = point[1]\n",
    "    matplotlib.pyplot.scatter( salary, bonus )\n",
    "\n",
    "matplotlib.pyplot.xlabel(\"salary\")\n",
    "matplotlib.pyplot.ylabel(\"bonus\")\n",
    "matplotlib.pyplot.show()"
   ]
  },
  {
   "cell_type": "markdown",
   "metadata": {},
   "source": [
    "We also need to check two more important features for outliers. These two features are \"from_poi_to_this_person\" and \"from_this_person_to_poi\"."
   ]
  },
  {
   "cell_type": "code",
   "execution_count": 12,
   "metadata": {
    "collapsed": false
   },
   "outputs": [
    {
     "data": {
      "image/png": "[encoded data removed]",
      "text/plain": [
       "<matplotlib.figure.Figure at 0xbba2320>"
      ]
     },
     "metadata": {},
     "output_type": "display_data"
    }
   ],
   "source": [
    "features = [\"from_this_person_to_poi\", \"from_poi_to_this_person\"]\n",
    "data = featureFormat(enron_data, features)\n",
    "\n",
    "\n",
    "### plot the two features\n",
    "for point in data:\n",
    "    from_this_person_to_poi = point[0]\n",
    "    from_poi_to_this_person = point[1]\n",
    "    matplotlib.pyplot.scatter( from_this_person_to_poi, from_poi_to_this_person )\n",
    "\n",
    "matplotlib.pyplot.xlabel(\"from_this_person_to_poi\")\n",
    "matplotlib.pyplot.ylabel(\"from_poi_to_this_person\")\n",
    "matplotlib.pyplot.show()"
   ]
  },
  {
   "cell_type": "markdown",
   "metadata": {},
   "source": [
    "Based on the chart above, there are a few outliers that should be further investigated."
   ]
  },
  {
   "cell_type": "code",
   "execution_count": 13,
   "metadata": {
    "collapsed": false
   },
   "outputs": [
    {
     "name": "stdout",
     "output_type": "stream",
     "text": [
      "[('DELAINEY DAVID W', 609),\n",
      " ('LAVORATO JOHN J', 411),\n",
      " ('KEAN STEVEN J', 387),\n",
      " ('BECK SALLY W', 386),\n",
      " ('KITCHEN LOUISE', 194),\n",
      " ('MCCONNELL MICHAEL S', 194),\n",
      " ('KAMINSKI WINCENTY J', 171),\n",
      " ('BELDEN TIMOTHY N', 108),\n",
      " ('SHANKMAN JEFFREY A', 83),\n",
      " ('BUY RICHARD B', 71)]\n"
     ]
    }
   ],
   "source": [
    "to_poi_outliers = []\n",
    "for key in enron_data:\n",
    "    val = enron_data[key]['from_this_person_to_poi']\n",
    "    if val == 'NaN':\n",
    "        continue\n",
    "    to_poi_outliers.append((key,int(val)))\n",
    "\n",
    "pprint(sorted(to_poi_outliers,key=lambda x:x[1],reverse=True)[:10])"
   ]
  },
  {
   "cell_type": "code",
   "execution_count": 14,
   "metadata": {
    "collapsed": false
   },
   "outputs": [
    {
     "name": "stdout",
     "output_type": "stream",
     "text": [
      "[('LAVORATO JOHN J', 528),\n",
      " ('DIETRICH JANET R', 305),\n",
      " ('KITCHEN LOUISE', 251),\n",
      " ('FREVERT MARK A', 242),\n",
      " ('COLWELL WESLEY', 240),\n",
      " ('BELDEN TIMOTHY N', 228),\n",
      " ('REDMOND BRIAN L', 204),\n",
      " ('CALGER CHRISTOPHER F', 199),\n",
      " ('DONAHUE JR JEFFREY M', 188),\n",
      " ('WHALLEY LAWRENCE G', 186)]\n"
     ]
    }
   ],
   "source": [
    "from_poi_outliers = []\n",
    "for key in enron_data:\n",
    "    val = enron_data[key]['from_poi_to_this_person']\n",
    "    if val == 'NaN':\n",
    "        continue\n",
    "    from_poi_outliers.append((key,int(val)))\n",
    "\n",
    "pprint(sorted(from_poi_outliers,key=lambda x:x[1],reverse=True)[:10])"
   ]
  },
  {
   "cell_type": "markdown",
   "metadata": {},
   "source": [
    "The records with the biggest values seem to be enron_employee. As such, those records need to be kept."
   ]
  },
  {
   "cell_type": "markdown",
   "metadata": {},
   "source": [
    "## Further Data Cleaning and Exploration\n",
    "\n",
    "After removing the outliers, we are going to explore further on the dataset for any other anomalies."
   ]
  },
  {
   "cell_type": "code",
   "execution_count": 15,
   "metadata": {
    "collapsed": false
   },
   "outputs": [],
   "source": [
    "df = pandas.DataFrame.from_records(list(enron_data.values()))\n",
    "persons = pandas.Series(list(enron_data.keys()))"
   ]
  },
  {
   "cell_type": "markdown",
   "metadata": {},
   "source": [
    "### List of Datatypes"
   ]
  },
  {
   "cell_type": "code",
   "execution_count": 16,
   "metadata": {
    "collapsed": false
   },
   "outputs": [
    {
     "data": {
      "text/plain": [
       "bonus                        object\n",
       "deferral_payments            object\n",
       "deferred_income              object\n",
       "director_fees                object\n",
       "email_address                object\n",
       "exercised_stock_options      object\n",
       "expenses                     object\n",
       "from_messages                object\n",
       "from_poi_to_this_person      object\n",
       "from_this_person_to_poi      object\n",
       "loan_advances                object\n",
       "long_term_incentive          object\n",
       "other                        object\n",
       "poi                            bool\n",
       "restricted_stock             object\n",
       "restricted_stock_deferred    object\n",
       "salary                       object\n",
       "shared_receipt_with_poi      object\n",
       "to_messages                  object\n",
       "total_payments               object\n",
       "total_stock_value            object\n",
       "dtype: object"
      ]
     },
     "execution_count": 16,
     "metadata": {},
     "output_type": "execute_result"
    }
   ],
   "source": [
    "df.dtypes"
   ]
  },
  {
   "cell_type": "markdown",
   "metadata": {},
   "source": [
    "### Summary View of Dataset"
   ]
  },
  {
   "cell_type": "code",
   "execution_count": 17,
   "metadata": {
    "collapsed": false,
    "scrolled": true
   },
   "outputs": [
    {
     "name": "stdout",
     "output_type": "stream",
     "text": [
      "     bonus deferral_payments deferred_income director_fees  \\\n",
      "0   600000               NaN             NaN           NaN   \n",
      "1  1200000           1295738        -1386055           NaN   \n",
      "2   350000               NaN         -400729           NaN   \n",
      "3      NaN               NaN             NaN           NaN   \n",
      "4  1500000               NaN        -3117011           NaN   \n",
      "\n",
      "              email_address exercised_stock_options expenses from_messages  \\\n",
      "0      mark.metts@enron.com                     NaN    94299            29   \n",
      "1                       NaN                 6680544    11200           NaN   \n",
      "2  steven.elliott@enron.com                 4890344    78552           NaN   \n",
      "3     bill.cordes@enron.com                  651850      NaN            12   \n",
      "4    kevin.hannon@enron.com                 5538001    34039            32   \n",
      "\n",
      "  from_poi_to_this_person from_this_person_to_poi        ...         \\\n",
      "0                      38                       1        ...          \n",
      "1                     NaN                     NaN        ...          \n",
      "2                     NaN                     NaN        ...          \n",
      "3                      10                       0        ...          \n",
      "4                      32                      21        ...          \n",
      "\n",
      "  long_term_incentive    other    poi restricted_stock  \\\n",
      "0                 NaN     1740  False           585062   \n",
      "1             1586055  2660303  False          3942714   \n",
      "2                 NaN    12961  False          1788391   \n",
      "3                 NaN      NaN  False           386335   \n",
      "4             1617011    11350   True           853064   \n",
      "\n",
      "  restricted_stock_deferred  salary shared_receipt_with_poi to_messages  \\\n",
      "0                       NaN  365788                     702         807   \n",
      "1                       NaN  267102                     NaN         NaN   \n",
      "2                       NaN  170941                     NaN         NaN   \n",
      "3                       NaN     NaN                      58         764   \n",
      "4                       NaN  243293                    1035        1045   \n",
      "\n",
      "  total_payments total_stock_value  \n",
      "0        1061827            585062  \n",
      "1        5634343          10623258  \n",
      "2         211725           6678735  \n",
      "3            NaN           1038185  \n",
      "4         288682           6391065  \n",
      "\n",
      "[5 rows x 21 columns]\n"
     ]
    }
   ],
   "source": [
    "print df.head()"
   ]
  },
  {
   "cell_type": "markdown",
   "metadata": {},
   "source": [
    "### Exploring \"NaN\" Values\n",
    "\n",
    "As shown in the summary view, there are a lot of records with \"NaN\" values in the dataset. This may affect the predictive model. As such, we need to handle the \"NaN\" values."
   ]
  },
  {
   "cell_type": "code",
   "execution_count": 18,
   "metadata": {
    "collapsed": false
   },
   "outputs": [
    {
     "name": "stdout",
     "output_type": "stream",
     "text": [
      "Number of records with NaN values:\n",
      "bonus                         63\n",
      "deferral_payments            106\n",
      "deferred_income               96\n",
      "director_fees                128\n",
      "email_address                 33\n",
      "exercised_stock_options       43\n",
      "expenses                      50\n",
      "from_messages                 58\n",
      "from_poi_to_this_person       58\n",
      "from_this_person_to_poi       58\n",
      "loan_advances                141\n",
      "long_term_incentive           79\n",
      "other                         53\n",
      "poi                            0\n",
      "restricted_stock              35\n",
      "restricted_stock_deferred    127\n",
      "salary                        50\n",
      "shared_receipt_with_poi       58\n",
      "to_messages                   58\n",
      "total_payments                21\n",
      "total_stock_value             19\n",
      "dtype: int64\n",
      "\n",
      "Dataset shape: \n",
      "(144, 21)\n"
     ]
    }
   ],
   "source": [
    "### Convert \"NaN\" string to Numpy NaN\n",
    "df.replace(to_replace='NaN', value=numpy.nan, inplace=True)\n",
    "\n",
    "### Count total occurence of NaN values.\n",
    "print \"Number of records with NaN values:\"\n",
    "print df.isnull().sum()\n",
    "\n",
    "### Dataset Shape\n",
    "print \"\\nDataset shape: \"\n",
    "print df.shape\n",
    "### print df.head()"
   ]
  },
  {
   "cell_type": "markdown",
   "metadata": {},
   "source": [
    "### Handling NaN Values"
   ]
  },
  {
   "cell_type": "code",
   "execution_count": 19,
   "metadata": {
    "collapsed": false
   },
   "outputs": [
    {
     "name": "stdout",
     "output_type": "stream",
     "text": [
      "Number of records with NaN values:\n",
      "bonus                        0\n",
      "deferral_payments            0\n",
      "deferred_income              0\n",
      "director_fees                0\n",
      "email_address                0\n",
      "exercised_stock_options      0\n",
      "expenses                     0\n",
      "from_messages                0\n",
      "from_poi_to_this_person      0\n",
      "from_this_person_to_poi      0\n",
      "loan_advances                0\n",
      "long_term_incentive          0\n",
      "other                        0\n",
      "poi                          0\n",
      "restricted_stock             0\n",
      "restricted_stock_deferred    0\n",
      "salary                       0\n",
      "shared_receipt_with_poi      0\n",
      "to_messages                  0\n",
      "total_payments               0\n",
      "total_stock_value            0\n",
      "dtype: int64\n",
      "\n",
      "Overview of df: \n",
      "       bonus  deferral_payments  deferred_income  director_fees  \\\n",
      "0   600000.0                0.0              0.0            0.0   \n",
      "1  1200000.0          1295738.0       -1386055.0            0.0   \n",
      "2   350000.0                0.0        -400729.0            0.0   \n",
      "3        0.0                0.0              0.0            0.0   \n",
      "4  1500000.0                0.0       -3117011.0            0.0   \n",
      "\n",
      "              email_address  exercised_stock_options  expenses  from_messages  \\\n",
      "0      mark.metts@enron.com                      0.0   94299.0           29.0   \n",
      "1                         0                6680544.0   11200.0            0.0   \n",
      "2  steven.elliott@enron.com                4890344.0   78552.0            0.0   \n",
      "3     bill.cordes@enron.com                 651850.0       0.0           12.0   \n",
      "4    kevin.hannon@enron.com                5538001.0   34039.0           32.0   \n",
      "\n",
      "   from_poi_to_this_person  from_this_person_to_poi        ...          \\\n",
      "0                     38.0                      1.0        ...           \n",
      "1                      0.0                      0.0        ...           \n",
      "2                      0.0                      0.0        ...           \n",
      "3                     10.0                      0.0        ...           \n",
      "4                     32.0                     21.0        ...           \n",
      "\n",
      "   long_term_incentive      other    poi restricted_stock  \\\n",
      "0                  0.0     1740.0  False         585062.0   \n",
      "1            1586055.0  2660303.0  False        3942714.0   \n",
      "2                  0.0    12961.0  False        1788391.0   \n",
      "3                  0.0        0.0  False         386335.0   \n",
      "4            1617011.0    11350.0   True         853064.0   \n",
      "\n",
      "   restricted_stock_deferred    salary  shared_receipt_with_poi  to_messages  \\\n",
      "0                        0.0  365788.0                    702.0        807.0   \n",
      "1                        0.0  267102.0                      0.0          0.0   \n",
      "2                        0.0  170941.0                      0.0          0.0   \n",
      "3                        0.0       0.0                     58.0        764.0   \n",
      "4                        0.0  243293.0                   1035.0       1045.0   \n",
      "\n",
      "   total_payments  total_stock_value  \n",
      "0       1061827.0           585062.0  \n",
      "1       5634343.0         10623258.0  \n",
      "2        211725.0          6678735.0  \n",
      "3             0.0          1038185.0  \n",
      "4        288682.0          6391065.0  \n",
      "\n",
      "[5 rows x 21 columns]\n"
     ]
    },
    {
     "data": {
      "text/html": [
       "<div>\n",
       "<table border=\"1\" class=\"dataframe\">\n",
       "  <thead>\n",
       "    <tr style=\"text-align: right;\">\n",
       "      <th></th>\n",
       "      <th>bonus</th>\n",
       "      <th>deferral_payments</th>\n",
       "      <th>deferred_income</th>\n",
       "      <th>director_fees</th>\n",
       "      <th>exercised_stock_options</th>\n",
       "      <th>expenses</th>\n",
       "      <th>from_messages</th>\n",
       "      <th>from_poi_to_this_person</th>\n",
       "      <th>from_this_person_to_poi</th>\n",
       "      <th>loan_advances</th>\n",
       "      <th>long_term_incentive</th>\n",
       "      <th>other</th>\n",
       "      <th>restricted_stock</th>\n",
       "      <th>restricted_stock_deferred</th>\n",
       "      <th>salary</th>\n",
       "      <th>shared_receipt_with_poi</th>\n",
       "      <th>to_messages</th>\n",
       "      <th>total_payments</th>\n",
       "      <th>total_stock_value</th>\n",
       "    </tr>\n",
       "  </thead>\n",
       "  <tbody>\n",
       "    <tr>\n",
       "      <th>count</th>\n",
       "      <td>1.440000e+02</td>\n",
       "      <td>1.440000e+02</td>\n",
       "      <td>1.440000e+02</td>\n",
       "      <td>144.000000</td>\n",
       "      <td>1.440000e+02</td>\n",
       "      <td>144.000000</td>\n",
       "      <td>144.000000</td>\n",
       "      <td>144.000000</td>\n",
       "      <td>144.000000</td>\n",
       "      <td>1.440000e+02</td>\n",
       "      <td>1.440000e+02</td>\n",
       "      <td>1.440000e+02</td>\n",
       "      <td>1.440000e+02</td>\n",
       "      <td>1.440000e+02</td>\n",
       "      <td>1.440000e+02</td>\n",
       "      <td>144.000000</td>\n",
       "      <td>144.000000</td>\n",
       "      <td>1.440000e+02</td>\n",
       "      <td>1.440000e+02</td>\n",
       "    </tr>\n",
       "    <tr>\n",
       "      <th>mean</th>\n",
       "      <td>6.759974e+05</td>\n",
       "      <td>2.220896e+05</td>\n",
       "      <td>-1.936833e+05</td>\n",
       "      <td>9980.319444</td>\n",
       "      <td>2.075802e+06</td>\n",
       "      <td>35375.340278</td>\n",
       "      <td>363.583333</td>\n",
       "      <td>38.756944</td>\n",
       "      <td>24.625000</td>\n",
       "      <td>5.828125e+05</td>\n",
       "      <td>3.369578e+05</td>\n",
       "      <td>2.947455e+05</td>\n",
       "      <td>8.685363e+05</td>\n",
       "      <td>7.341790e+04</td>\n",
       "      <td>1.854460e+05</td>\n",
       "      <td>702.611111</td>\n",
       "      <td>1238.555556</td>\n",
       "      <td>2.256543e+06</td>\n",
       "      <td>2.909786e+06</td>\n",
       "    </tr>\n",
       "    <tr>\n",
       "      <th>std</th>\n",
       "      <td>1.233155e+06</td>\n",
       "      <td>7.541013e+05</td>\n",
       "      <td>6.060111e+05</td>\n",
       "      <td>31300.575144</td>\n",
       "      <td>4.795513e+06</td>\n",
       "      <td>45309.303038</td>\n",
       "      <td>1450.675239</td>\n",
       "      <td>74.276769</td>\n",
       "      <td>79.778266</td>\n",
       "      <td>6.794472e+06</td>\n",
       "      <td>6.871826e+05</td>\n",
       "      <td>1.131325e+06</td>\n",
       "      <td>2.016572e+06</td>\n",
       "      <td>1.301983e+06</td>\n",
       "      <td>1.970421e+05</td>\n",
       "      <td>1077.290736</td>\n",
       "      <td>2237.564816</td>\n",
       "      <td>8.847189e+06</td>\n",
       "      <td>6.189018e+06</td>\n",
       "    </tr>\n",
       "    <tr>\n",
       "      <th>min</th>\n",
       "      <td>0.000000e+00</td>\n",
       "      <td>-1.025000e+05</td>\n",
       "      <td>-3.504386e+06</td>\n",
       "      <td>0.000000</td>\n",
       "      <td>0.000000e+00</td>\n",
       "      <td>0.000000</td>\n",
       "      <td>0.000000</td>\n",
       "      <td>0.000000</td>\n",
       "      <td>0.000000</td>\n",
       "      <td>0.000000e+00</td>\n",
       "      <td>0.000000e+00</td>\n",
       "      <td>0.000000e+00</td>\n",
       "      <td>-2.604490e+06</td>\n",
       "      <td>-1.787380e+06</td>\n",
       "      <td>0.000000e+00</td>\n",
       "      <td>0.000000</td>\n",
       "      <td>0.000000</td>\n",
       "      <td>0.000000e+00</td>\n",
       "      <td>-4.409300e+04</td>\n",
       "    </tr>\n",
       "    <tr>\n",
       "      <th>25%</th>\n",
       "      <td>0.000000e+00</td>\n",
       "      <td>0.000000e+00</td>\n",
       "      <td>-3.708600e+04</td>\n",
       "      <td>0.000000</td>\n",
       "      <td>0.000000e+00</td>\n",
       "      <td>0.000000</td>\n",
       "      <td>0.000000</td>\n",
       "      <td>0.000000</td>\n",
       "      <td>0.000000</td>\n",
       "      <td>0.000000e+00</td>\n",
       "      <td>0.000000e+00</td>\n",
       "      <td>0.000000e+00</td>\n",
       "      <td>2.434500e+04</td>\n",
       "      <td>0.000000e+00</td>\n",
       "      <td>0.000000e+00</td>\n",
       "      <td>0.000000</td>\n",
       "      <td>0.000000</td>\n",
       "      <td>9.019275e+04</td>\n",
       "      <td>2.443265e+05</td>\n",
       "    </tr>\n",
       "    <tr>\n",
       "      <th>50%</th>\n",
       "      <td>3.000000e+05</td>\n",
       "      <td>0.000000e+00</td>\n",
       "      <td>0.000000e+00</td>\n",
       "      <td>0.000000</td>\n",
       "      <td>6.082935e+05</td>\n",
       "      <td>20182.000000</td>\n",
       "      <td>17.500000</td>\n",
       "      <td>4.000000</td>\n",
       "      <td>0.000000</td>\n",
       "      <td>0.000000e+00</td>\n",
       "      <td>0.000000e+00</td>\n",
       "      <td>9.190000e+02</td>\n",
       "      <td>3.605280e+05</td>\n",
       "      <td>0.000000e+00</td>\n",
       "      <td>2.105960e+05</td>\n",
       "      <td>114.000000</td>\n",
       "      <td>347.500000</td>\n",
       "      <td>9.413595e+05</td>\n",
       "      <td>9.659550e+05</td>\n",
       "    </tr>\n",
       "    <tr>\n",
       "      <th>75%</th>\n",
       "      <td>8.000000e+05</td>\n",
       "      <td>8.535500e+03</td>\n",
       "      <td>0.000000e+00</td>\n",
       "      <td>0.000000</td>\n",
       "      <td>1.683580e+06</td>\n",
       "      <td>53328.250000</td>\n",
       "      <td>53.000000</td>\n",
       "      <td>41.250000</td>\n",
       "      <td>14.000000</td>\n",
       "      <td>0.000000e+00</td>\n",
       "      <td>3.745862e+05</td>\n",
       "      <td>1.485770e+05</td>\n",
       "      <td>7.374560e+05</td>\n",
       "      <td>0.000000e+00</td>\n",
       "      <td>2.696675e+05</td>\n",
       "      <td>933.750000</td>\n",
       "      <td>1623.000000</td>\n",
       "      <td>1.945668e+06</td>\n",
       "      <td>2.295176e+06</td>\n",
       "    </tr>\n",
       "    <tr>\n",
       "      <th>max</th>\n",
       "      <td>8.000000e+06</td>\n",
       "      <td>6.426990e+06</td>\n",
       "      <td>0.000000e+00</td>\n",
       "      <td>137864.000000</td>\n",
       "      <td>3.434838e+07</td>\n",
       "      <td>228763.000000</td>\n",
       "      <td>14368.000000</td>\n",
       "      <td>528.000000</td>\n",
       "      <td>609.000000</td>\n",
       "      <td>8.152500e+07</td>\n",
       "      <td>5.145434e+06</td>\n",
       "      <td>1.035973e+07</td>\n",
       "      <td>1.476169e+07</td>\n",
       "      <td>1.545629e+07</td>\n",
       "      <td>1.111258e+06</td>\n",
       "      <td>5521.000000</td>\n",
       "      <td>15149.000000</td>\n",
       "      <td>1.035598e+08</td>\n",
       "      <td>4.911008e+07</td>\n",
       "    </tr>\n",
       "  </tbody>\n",
       "</table>\n",
       "</div>"
      ],
      "text/plain": [
       "              bonus  deferral_payments  deferred_income  director_fees  \\\n",
       "count  1.440000e+02       1.440000e+02     1.440000e+02     144.000000   \n",
       "mean   6.759974e+05       2.220896e+05    -1.936833e+05    9980.319444   \n",
       "std    1.233155e+06       7.541013e+05     6.060111e+05   31300.575144   \n",
       "min    0.000000e+00      -1.025000e+05    -3.504386e+06       0.000000   \n",
       "25%    0.000000e+00       0.000000e+00    -3.708600e+04       0.000000   \n",
       "50%    3.000000e+05       0.000000e+00     0.000000e+00       0.000000   \n",
       "75%    8.000000e+05       8.535500e+03     0.000000e+00       0.000000   \n",
       "max    8.000000e+06       6.426990e+06     0.000000e+00  137864.000000   \n",
       "\n",
       "       exercised_stock_options       expenses  from_messages  \\\n",
       "count             1.440000e+02     144.000000     144.000000   \n",
       "mean              2.075802e+06   35375.340278     363.583333   \n",
       "std               4.795513e+06   45309.303038    1450.675239   \n",
       "min               0.000000e+00       0.000000       0.000000   \n",
       "25%               0.000000e+00       0.000000       0.000000   \n",
       "50%               6.082935e+05   20182.000000      17.500000   \n",
       "75%               1.683580e+06   53328.250000      53.000000   \n",
       "max               3.434838e+07  228763.000000   14368.000000   \n",
       "\n",
       "       from_poi_to_this_person  from_this_person_to_poi  loan_advances  \\\n",
       "count               144.000000               144.000000   1.440000e+02   \n",
       "mean                 38.756944                24.625000   5.828125e+05   \n",
       "std                  74.276769                79.778266   6.794472e+06   \n",
       "min                   0.000000                 0.000000   0.000000e+00   \n",
       "25%                   0.000000                 0.000000   0.000000e+00   \n",
       "50%                   4.000000                 0.000000   0.000000e+00   \n",
       "75%                  41.250000                14.000000   0.000000e+00   \n",
       "max                 528.000000               609.000000   8.152500e+07   \n",
       "\n",
       "       long_term_incentive         other  restricted_stock  \\\n",
       "count         1.440000e+02  1.440000e+02      1.440000e+02   \n",
       "mean          3.369578e+05  2.947455e+05      8.685363e+05   \n",
       "std           6.871826e+05  1.131325e+06      2.016572e+06   \n",
       "min           0.000000e+00  0.000000e+00     -2.604490e+06   \n",
       "25%           0.000000e+00  0.000000e+00      2.434500e+04   \n",
       "50%           0.000000e+00  9.190000e+02      3.605280e+05   \n",
       "75%           3.745862e+05  1.485770e+05      7.374560e+05   \n",
       "max           5.145434e+06  1.035973e+07      1.476169e+07   \n",
       "\n",
       "       restricted_stock_deferred        salary  shared_receipt_with_poi  \\\n",
       "count               1.440000e+02  1.440000e+02               144.000000   \n",
       "mean                7.341790e+04  1.854460e+05               702.611111   \n",
       "std                 1.301983e+06  1.970421e+05              1077.290736   \n",
       "min                -1.787380e+06  0.000000e+00                 0.000000   \n",
       "25%                 0.000000e+00  0.000000e+00                 0.000000   \n",
       "50%                 0.000000e+00  2.105960e+05               114.000000   \n",
       "75%                 0.000000e+00  2.696675e+05               933.750000   \n",
       "max                 1.545629e+07  1.111258e+06              5521.000000   \n",
       "\n",
       "        to_messages  total_payments  total_stock_value  \n",
       "count    144.000000    1.440000e+02       1.440000e+02  \n",
       "mean    1238.555556    2.256543e+06       2.909786e+06  \n",
       "std     2237.564816    8.847189e+06       6.189018e+06  \n",
       "min        0.000000    0.000000e+00      -4.409300e+04  \n",
       "25%        0.000000    9.019275e+04       2.443265e+05  \n",
       "50%      347.500000    9.413595e+05       9.659550e+05  \n",
       "75%     1623.000000    1.945668e+06       2.295176e+06  \n",
       "max    15149.000000    1.035598e+08       4.911008e+07  "
      ]
     },
     "execution_count": 19,
     "metadata": {},
     "output_type": "execute_result"
    }
   ],
   "source": [
    "df_replace_nan = df.replace(to_replace=numpy.nan, value=0)\n",
    "df_replace_nan = df.fillna(0).copy(deep=True)\n",
    "df_replace_nan.columns = list(df.columns.values)\n",
    "\n",
    "print \"Number of records with NaN values:\"\n",
    "print df_replace_nan.isnull().sum()\n",
    "\n",
    "print \"\\nOverview of df: \"\n",
    "print df_replace_nan.head()\n",
    "\n",
    "df_replace_nan.describe()"
   ]
  },
  {
   "cell_type": "markdown",
   "metadata": {},
   "source": [
    "## Feature Selection"
   ]
  },
  {
   "cell_type": "markdown",
   "metadata": {
    "collapsed": true
   },
   "source": [
    "### Using Correlation Table to Explore Features"
   ]
  },
  {
   "cell_type": "code",
   "execution_count": 20,
   "metadata": {
    "collapsed": false
   },
   "outputs": [
    {
     "name": "stdout",
     "output_type": "stream",
     "text": [
      "Sorted features based on their absolute correlation value with the target feature ('poi'): \n",
      "loan_advances                0.999851\n",
      "exercised_stock_options      0.503551\n",
      "total_stock_value            0.366462\n",
      "bonus                        0.302384\n",
      "deferred_income             -0.265698\n",
      "salary                       0.264976\n",
      "long_term_incentive          0.254723\n",
      "total_payments               0.230102\n",
      "shared_receipt_with_poi      0.228313\n",
      "restricted_stock             0.224814\n",
      "from_poi_to_this_person      0.167722\n",
      "other                        0.120270\n",
      "from_this_person_to_poi      0.112940\n",
      "deferral_payments           -0.098428\n",
      "from_messages               -0.074308\n",
      "expenses                     0.060292\n",
      "to_messages                  0.058954\n",
      "director_fees                     NaN\n",
      "restricted_stock_deferred         NaN\n",
      "Name: poi, dtype: float64\n"
     ]
    }
   ],
   "source": [
    "pearson = df.corr(method='pearson')\n",
    "\n",
    "#create a list of correlation between available and the target feature (i.e. poi)\n",
    "corr_with_target_feature = pearson['poi']\n",
    "\n",
    "#drop 'poi' feature in the row because it is not the independent variable\n",
    "corr_with_target_feature = corr_with_target_feature.drop(['poi'])\n",
    "\n",
    "#sort correlation list by absolute value\n",
    "corr_with_target_feature_sorted = abs(corr_with_target_feature).sort_values(ascending = False)\n",
    "\n",
    "print \"Sorted features based on their absolute correlation value with the target feature ('poi'): \"\n",
    "\n",
    "print corr_with_target_feature[corr_with_target_feature_sorted.index]"
   ]
  },
  {
   "cell_type": "markdown",
   "metadata": {},
   "source": [
    "Based on correlation value with the target feature ('poi'), the list above shows the sorted list of features, which can be our potential useful features.\n",
    "\n",
    "### Using SKLearn SelectKBest feature selection:"
   ]
  },
  {
   "cell_type": "code",
   "execution_count": 21,
   "metadata": {
    "collapsed": false
   },
   "outputs": [],
   "source": [
    "def get_k_best(enron_data, features_list, k):\n",
    "    \"\"\" runs scikit-learn's SelectKBest feature selection\n",
    "        returns dict where keys=features, values=scores\n",
    "    \"\"\"\n",
    "    data = featureFormat(enron_data, features_list)\n",
    "    labels, features = targetFeatureSplit(data)\n",
    "    \n",
    "    k_best = SelectKBest(k=k)\n",
    "    k_best.fit(features, labels)\n",
    "    scores = k_best.scores_\n",
    "    unsorted_pairs = zip(features_list[1:], scores)\n",
    "    sorted_pairs = list(reversed(sorted(unsorted_pairs, key=lambda x: x[1])))\n",
    "    k_best_features = dict(sorted_pairs[:k])\n",
    "    print k_best_features\n",
    "#     print \"{0} best features: {1}\\n\".format(k, k_best_features.keys())\n",
    "    return k_best_features\n",
    "    "
   ]
  },
  {
   "cell_type": "code",
   "execution_count": 31,
   "metadata": {
    "collapsed": false
   },
   "outputs": [
    {
     "name": "stdout",
     "output_type": "stream",
     "text": [
      "{'salary': 18.289684043404513, 'to_messages': 1.6463411294420076, 'deferral_payments': 0.22461127473600989, 'total_payments': 8.7727777300916792, 'loan_advances': 7.1840556582887247, 'bonus': 20.792252047181535, 'director_fees': 2.1263278020077054, 'restricted_stock_deferred': 0.065499652909942141, 'total_stock_value': 24.182898678566879, 'shared_receipt_with_poi': 8.589420731682381, 'from_poi_to_this_person': 5.2434497133749582, 'exercised_stock_options': 24.815079733218194, 'from_messages': 0.16970094762175533, 'other': 4.1874775069953749, 'from_this_person_to_poi': 2.3826121082276739, 'deferred_income': 11.458476579280369, 'expenses': 6.0941733106389453, 'restricted_stock': 9.2128106219771002, 'long_term_incentive': 9.9221860131898225}\n"
     ]
    }
   ],
   "source": [
    "# get K-best features\n",
    "target_label = 'poi'\n",
    "from sklearn.feature_selection import SelectKBest\n",
    "# print enron_data\n",
    "num_features = 19 # N best features\n",
    "best_features = get_k_best(enron_data, features_list, num_features)\n",
    "# print best_features\n",
    "my_feature_list = [target_label] + best_features.keys()"
   ]
  },
  {
   "cell_type": "markdown",
   "metadata": {},
   "source": [
    "The selected best features from SelectKBest seems to be in line with the sorted correlation list above we analyzed earlier."
   ]
  },
  {
   "cell_type": "markdown",
   "metadata": {},
   "source": [
    "## Feature Engineering\n",
    "Here we will create three new features:\n",
    "- poi_ratio\n",
    "- fraction_to_poi\n",
    "- fraction_from_poi\n",
    "\n",
    "These three new features are created to understand how often each person interact with the poi considering the total messages that the person have received/ sent."
   ]
  },
  {
   "cell_type": "code",
   "execution_count": 32,
   "metadata": {
    "collapsed": false
   },
   "outputs": [
    {
     "name": "stdout",
     "output_type": "stream",
     "text": [
      "['poi', 'salary', 'to_messages', 'deferral_payments', 'total_payments', 'loan_advances', 'bonus', 'director_fees', 'restricted_stock_deferred', 'total_stock_value', 'shared_receipt_with_poi', 'from_poi_to_this_person', 'exercised_stock_options', 'from_messages', 'other', 'from_this_person_to_poi', 'deferred_income', 'expenses', 'restricted_stock', 'long_term_incentive', 'poi_ratio', 'fraction_to_poi', 'fraction_from_poi']\n",
      "['poi', 'salary', 'to_messages', 'deferral_payments', 'total_payments', 'loan_advances', 'bonus', 'director_fees', 'restricted_stock_deferred', 'total_stock_value', 'shared_receipt_with_poi', 'from_poi_to_this_person', 'exercised_stock_options', 'from_messages', 'other', 'from_this_person_to_poi', 'deferred_income', 'expenses', 'restricted_stock', 'long_term_incentive', 'poi_ratio', 'fraction_to_poi', 'fraction_from_poi']\n"
     ]
    }
   ],
   "source": [
    "import warnings\n",
    "warnings.filterwarnings('ignore')\n",
    "\n",
    "#Here I engineered three new features:\n",
    "\n",
    "#poi_ratio = number of messages sent to + received from poi / total sent + received messages\n",
    "eng_feat1='poi_ratio'\n",
    "\n",
    "#fraction_to_poi = number of messages sent to poi / total sent messages\n",
    "eng_feat2='fraction_to_poi'\n",
    "\n",
    "#fraction_from_poi = number of messages received from poi / total received messages\n",
    "eng_feat3='fraction_from_poi'\n",
    "\n",
    "#add the newly engineered features to my_feature_list\n",
    "enron.add_poi_ratio(enron_data, my_feature_list)\n",
    "enron.add_fraction_to_poi(enron_data, my_feature_list)\n",
    "enron.add_fraction_from_poi(enron_data, my_feature_list)\n",
    "\n",
    "eng_feature_list=my_feature_list \n",
    "print my_feature_list\n",
    "print eng_feature_list\n"
   ]
  },
  {
   "cell_type": "markdown",
   "metadata": {},
   "source": [
    "## Feature Scaling\n",
    "Here we rescale the feature values before the features can be used into a machine learning model"
   ]
  },
  {
   "cell_type": "code",
   "execution_count": 33,
   "metadata": {
    "collapsed": false
   },
   "outputs": [],
   "source": [
    "#subset the features in the eng_feature_list\n",
    "data = featureFormat(enron_data, eng_feature_list)\n",
    "\n",
    "#split the target feature from the other features\n",
    "labels, features = targetFeatureSplit(data)\n",
    "\n",
    "from sklearn import preprocessing\n",
    "\n",
    "#scale the features with MinMaxScaler\n",
    "scaler = preprocessing.MinMaxScaler()\n",
    "features = scaler.fit_transform(features)"
   ]
  },
  {
   "cell_type": "markdown",
   "metadata": {},
   "source": [
    "## Splitting data into training and test data\n",
    "\n",
    "The data will be split with 30% of the data as test data and 70% as training data."
   ]
  },
  {
   "cell_type": "code",
   "execution_count": 34,
   "metadata": {
    "collapsed": false
   },
   "outputs": [],
   "source": [
    "#split the data: 30% of the data as test data and 70% as training data.\n",
    "features_train,features_test,labels_train,labels_test = sklearn.cross_validation.train_test_split(features,labels, test_size=0.3, random_state=52)"
   ]
  },
  {
   "cell_type": "markdown",
   "metadata": {},
   "source": [
    "## Iterating through various models"
   ]
  },
  {
   "cell_type": "code",
   "execution_count": 35,
   "metadata": {
    "collapsed": false,
    "scrolled": true
   },
   "outputs": [
    {
     "name": "stdout",
     "output_type": "stream",
     "text": [
      " \n",
      "Classifier:\n",
      "KNeighborsClassifier(algorithm='auto', leaf_size=30, metric='minkowski',\n",
      "           metric_params=None, n_jobs=1, n_neighbors=3, p=2,\n",
      "           weights='uniform')\n",
      "precision: 0.282643650794\n",
      "recall:    0.102568722944\n",
      "Accuracy: 0.84 (+/- 0.00)\n",
      "=====================================================================\n",
      " \n",
      "Classifier:\n",
      "SVC(C=0.025, cache_size=200, class_weight=None, coef0=0.0,\n",
      "  decision_function_shape=None, degree=3, gamma='auto', kernel='linear',\n",
      "  max_iter=-1, probability=False, random_state=None, shrinking=True,\n",
      "  tol=0.001, verbose=False)\n",
      "precision: 0.0\n",
      "recall:    0.0\n",
      "Accuracy: 0.93 (+/- 0.00)\n",
      "=====================================================================\n",
      " \n",
      "Classifier:\n",
      "SVC(C=1, cache_size=200, class_weight=None, coef0=0.0,\n",
      "  decision_function_shape=None, degree=3, gamma=2, kernel='rbf',\n",
      "  max_iter=-1, probability=False, random_state=None, shrinking=True,\n",
      "  tol=0.001, verbose=False)\n",
      "precision: 0.0\n",
      "recall:    0.0\n",
      "Accuracy: 0.93 (+/- 0.00)\n",
      "=====================================================================\n",
      " \n",
      "Classifier:\n",
      "DecisionTreeClassifier(class_weight=None, criterion='gini', max_depth=5,\n",
      "            max_features=None, max_leaf_nodes=None,\n",
      "            min_impurity_split=1e-07, min_samples_leaf=1,\n",
      "            min_samples_split=2, min_weight_fraction_leaf=0.0,\n",
      "            presort=False, random_state=None, splitter='best')\n",
      "precision: 0.28085246004\n",
      "recall:    0.277574603175\n",
      "Accuracy: 0.88 (+/- 0.00)\n",
      "=====================================================================\n",
      " \n",
      "Classifier:\n",
      "RandomForestClassifier(bootstrap=True, class_weight=None, criterion='gini',\n",
      "            max_depth=5, max_features=1, max_leaf_nodes=None,\n",
      "            min_impurity_split=1e-07, min_samples_leaf=1,\n",
      "            min_samples_split=2, min_weight_fraction_leaf=0.0,\n",
      "            n_estimators=10, n_jobs=1, oob_score=False, random_state=None,\n",
      "            verbose=0, warm_start=False)\n",
      "precision: 0.274827380952\n",
      "recall:    0.0980664141414\n",
      "Accuracy: 0.93 (+/- 0.00)\n",
      "=====================================================================\n",
      " \n",
      "Classifier:\n",
      "AdaBoostClassifier(algorithm='SAMME.R', base_estimator=None,\n",
      "          learning_rate=1.0, n_estimators=50, random_state=None)\n",
      "precision: 0.317208261183\n",
      "recall:    0.247254473304\n",
      "Accuracy: 0.91 (+/- 0.00)\n",
      "=====================================================================\n",
      " \n",
      "Classifier:\n",
      "GaussianNB(priors=None)\n",
      "precision: 0.194137340728\n",
      "recall:    0.730064646465\n",
      "Accuracy: 0.28 (+/- 0.00)\n",
      "=====================================================================\n",
      " \n",
      "Classifier:\n",
      "ExtraTreesClassifier(bootstrap=False, class_weight=None, criterion='gini',\n",
      "           max_depth=None, max_features='auto', max_leaf_nodes=None,\n",
      "           min_impurity_split=1e-07, min_samples_leaf=1,\n",
      "           min_samples_split=2, min_weight_fraction_leaf=0.0,\n",
      "           n_estimators=10, n_jobs=1, oob_score=False, random_state=None,\n",
      "           verbose=0, warm_start=False)\n",
      "precision: 0.354780952381\n",
      "recall:    0.154347438672\n",
      "Accuracy: 0.88 (+/- 0.00)\n",
      "=====================================================================\n"
     ]
    }
   ],
   "source": [
    "from sklearn.tree import DecisionTreeClassifier\n",
    "from sklearn.ensemble import ExtraTreesClassifier\n",
    "from sklearn.ensemble import AdaBoostClassifier\n",
    "from sklearn.ensemble import RandomForestClassifier\n",
    "from sklearn.neighbors import KNeighborsClassifier\n",
    "from sklearn.svm import SVC\n",
    "from sklearn.naive_bayes import GaussianNB\n",
    "\n",
    "names = [\"Nearest Neighbors\", \"Linear SVM\", \"RBF SVM\", \"Decision Tree\",\n",
    "         \"Random Forest\", \"AdaBoost\", \"Naive Bayes\", \"Extra Trees\"]\n",
    "\n",
    "classifiers = [\n",
    "    KNeighborsClassifier(3),\n",
    "    SVC(kernel=\"linear\", C=0.025),\n",
    "    SVC(gamma=2, C=1),\n",
    "    DecisionTreeClassifier(max_depth=5),\n",
    "    RandomForestClassifier(max_depth=5, n_estimators=10, max_features=1),\n",
    "    AdaBoostClassifier(),\n",
    "    GaussianNB(),\n",
    "    ExtraTreesClassifier()]\n",
    "\n",
    "\n",
    "#iteration over various classifiers\n",
    "for name, clf in zip(names, classifiers):\n",
    "        clf.fit(features_train,labels_train)\n",
    "        scores = clf.score(features_test,labels_test)\n",
    "        print \" \"\n",
    "        print \"Classifier:\"\n",
    "        evaluate.evaluate_clf(clf, features, labels, num_iters=1000, test_size=0.3)\n",
    "        print(\"Accuracy: %0.2f (+/- %0.2f)\" % (scores.mean(), scores.std() * 2))\n",
    "        print \"=====================================================================\""
   ]
  },
  {
   "cell_type": "markdown",
   "metadata": {},
   "source": [
    "I will pick DecisionTreeClassifier to be used and tuned in the next section.\n",
    "\n",
    "I will use grid_search.GridSearchCV to tune the model."
   ]
  },
  {
   "cell_type": "markdown",
   "metadata": {},
   "source": [
    "## Defining Scoring and Cross Validation"
   ]
  },
  {
   "cell_type": "code",
   "execution_count": 36,
   "metadata": {
    "collapsed": false
   },
   "outputs": [],
   "source": [
    "from sklearn import grid_search\n",
    "from sklearn.tree import DecisionTreeClassifier\n",
    "\n",
    "cv = sklearn.cross_validation.StratifiedShuffleSplit(labels, n_iter=10)\n",
    "def scoring(estimator, features_test, labels_test):\n",
    "     labels_pred = estimator.predict(features_test)\n",
    "     p = sklearn.metrics.precision_score(labels_test, labels_pred, average='micro')\n",
    "     r = sklearn.metrics.recall_score(labels_test, labels_pred, average='micro')\n",
    "     if p >= 0.1 and r >= 0.3:\n",
    "            return sklearn.metrics.f1_score(labels_test, labels_pred, average='macro')\n",
    "     return 0"
   ]
  },
  {
   "cell_type": "markdown",
   "metadata": {},
   "source": [
    "In the code above, I try to minimize the the precision  (p variable) and maximize the recall value (r variable).\n",
    "This is because we are doing some kind of fraud analysis, so we rather have more cases classified as POI rather than to let it slip away. In this case, the precision may be lowered because there may be more cases that are classified as POI but not really a POI.\n",
    "\n",
    "\n",
    "## Tuning DecisionTreeClassifier"
   ]
  },
  {
   "cell_type": "code",
   "execution_count": 37,
   "metadata": {
    "collapsed": false
   },
   "outputs": [
    {
     "name": "stdout",
     "output_type": "stream",
     "text": [
      "best estimator: DecisionTreeClassifier(class_weight=None, criterion='entropy', max_depth=8,\n",
      "            max_features=None, max_leaf_nodes=None,\n",
      "            min_impurity_split=1e-07, min_samples_leaf=5,\n",
      "            min_samples_split=3, min_weight_fraction_leaf=0.0,\n",
      "            presort=False, random_state=None, splitter='best')\n",
      "best score: 0.7994002849\n",
      "Processing time: 29.136 s\n"
     ]
    }
   ],
   "source": [
    "t0 = time()\n",
    "parameters = {'max_depth': [1,2,3,4,5,6,8,9,10],'min_samples_split':[2,3,4,5],'min_samples_leaf':[1,2,3,4,5,6,7,8], 'criterion':('gini', 'entropy')}\n",
    "\n",
    "dtc_clf = sklearn.tree.DecisionTreeClassifier() \n",
    "dtcclf = grid_search.GridSearchCV(dtc_clf, parameters, scoring = scoring, cv = cv)\n",
    "\n",
    "dtcclf.fit(features, labels)\n",
    "print 'best estimator:', dtcclf.best_estimator_\n",
    "print 'best score:', dtcclf.best_score_\n",
    "print 'Processing time:',round(time()-t0,3) ,'s'\n"
   ]
  },
  {
   "cell_type": "markdown",
   "metadata": {},
   "source": [
    "## Validation of Classifier"
   ]
  },
  {
   "cell_type": "markdown",
   "metadata": {},
   "source": [
    "### DecisionTreeClassifier  Validation No. 1 (StratifiedShuffleSplit, folds = 1000)"
   ]
  },
  {
   "cell_type": "code",
   "execution_count": 38,
   "metadata": {
    "collapsed": false,
    "scrolled": false
   },
   "outputs": [
    {
     "name": "stdout",
     "output_type": "stream",
     "text": [
      "DecisionTreeClassifier(class_weight=None, criterion='entropy', max_depth=8,\n",
      "            max_features=None, max_leaf_nodes=None,\n",
      "            min_impurity_split=1e-07, min_samples_leaf=5,\n",
      "            min_samples_split=3, min_weight_fraction_leaf=0.0,\n",
      "            presort=False, random_state=None, splitter='best')\n",
      "\tAccuracy: 0.84760\tPrecision: 0.41538\tRecall: 0.35100\tF1: 0.38049\tF2: 0.36223\n",
      "\tTotal predictions: 15000\tTrue positives:  702\tFalse positives:  988\tFalse negatives: 1298\tTrue negatives: 12012\n",
      "\n",
      "Processing time: 1.306 s\n"
     ]
    }
   ],
   "source": [
    "t0 = time()\n",
    "dtc_best_clf = dtcclf.best_estimator_\n",
    "   \n",
    "test_classifier(dtc_best_clf, enron_data, eng_feature_list)\n",
    "\n",
    "print 'Processing time:',round(time()-t0,3) ,'s'"
   ]
  },
  {
   "cell_type": "markdown",
   "metadata": {},
   "source": [
    "### DecisionTreeClassifier Validation No. 2 (Randomized, partitioned trials, n=1,000)"
   ]
  },
  {
   "cell_type": "code",
   "execution_count": 39,
   "metadata": {
    "collapsed": false
   },
   "outputs": [
    {
     "name": "stdout",
     "output_type": "stream",
     "text": [
      "DecisionTreeClassifier(class_weight=None, criterion='entropy', max_depth=8,\n",
      "            max_features=None, max_leaf_nodes=None,\n",
      "            min_impurity_split=1e-07, min_samples_leaf=5,\n",
      "            min_samples_split=3, min_weight_fraction_leaf=0.0,\n",
      "            presort=False, random_state=None, splitter='best')\n",
      "precision: 0.3348458318\n",
      "recall:    0.286258152958\n",
      "Accuracy: 0.88 (+/- 0.00)\n",
      "Processing time: 1.831 s\n"
     ]
    }
   ],
   "source": [
    "t0 = time()\n",
    "dtc_best_clf = dtcclf.best_estimator_\n",
    "   \n",
    "evaluate.evaluate_clf(dtc_best_clf, features, labels, num_iters=1000, test_size=0.3)\n",
    "print(\"Accuracy: %0.2f (+/- %0.2f)\" % (scores.mean(), scores.std() * 2))\n",
    "print 'Processing time:',round(time()-t0,3) ,'s'"
   ]
  },
  {
   "cell_type": "markdown",
   "metadata": {
    "collapsed": true
   },
   "source": [
    "From the validation above, we can see that using both methods (Validation No.1 and No. 2), the tuned model has a better precision and recall than it was before.\n",
    "\n",
    "So, we can safely say that our parameter tuning works fine.\n",
    "\n",
    "## Dump Classifier"
   ]
  },
  {
   "cell_type": "code",
   "execution_count": 40,
   "metadata": {
    "collapsed": true
   },
   "outputs": [],
   "source": [
    "dump_classifier_and_data(dtc_best_clf, enron_data, eng_feature_list)"
   ]
  }
 ],
 "metadata": {
  "kernelspec": {
   "display_name": "Python 2",
   "language": "python",
   "name": "python2"
  },
  "language_info": {
   "codemirror_mode": {
    "name": "ipython",
    "version": 2
   },
   "file_extension": ".py",
   "mimetype": "text/x-python",
   "name": "python",
   "nbconvert_exporter": "python",
   "pygments_lexer": "ipython2",
   "version": "2.7.13"
  }
 },
 "nbformat": 4,
 "nbformat_minor": 0
}
