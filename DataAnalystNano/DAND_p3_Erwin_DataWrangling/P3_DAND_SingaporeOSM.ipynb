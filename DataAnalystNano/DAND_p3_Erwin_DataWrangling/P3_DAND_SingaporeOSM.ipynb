{
 "cells": [
  {
   "cell_type": "markdown",
   "metadata": {},
   "source": [
    "## Data Wrangling OpenStreetMap Data of Singapore"
   ]
  },
  {
   "cell_type": "markdown",
   "metadata": {},
   "source": [
    "The purpose of this project is to audit, analyze and clean [Singapore OpenStreetMap (OSM) XML](https://s3.amazonaws.com/metro-extracts.mapzen.com/singapore.osm.bz2). After the data is cleaned, it will be transformed into a JSON format to be uploaded into a MongoDB Database.\n",
    "\n",
    "OpenStreetMap view of Singapore: https://www.openstreetmap.org/relation/536780"
   ]
  },
  {
   "cell_type": "markdown",
   "metadata": {},
   "source": [
    "An example of the Singapore OSM XML:\n",
    "```xml\n",
    "<node id=\"3205311761\" visible=\"true\" version=\"1\" changeset=\"27032256\" timestamp=\"2014-11-25T21:38:36Z\" user=\"tandesmond\" uid=\"2485698\" lat=\"1.3081957\" lon=\"103.8551761\">\n",
    "  <tag k=\"addr:city\" v=\"Singapore\"/>\n",
    "  <tag k=\"addr:housenumber\" v=\"641, #20-50\"/>\n",
    "  <tag k=\"addr:postcode\" v=\"200641\"/>\n",
    "  <tag k=\"addr:street\" v=\"Rowell Road\"/>\n",
    "  <tag k=\"phone\" v=\"+65 6396 0609\"/>\n",
    "  <tag k=\"name\" v=\"Por's house\"/>\n",
    "</node>\n",
    "```\n",
    "\n",
    "The database needs to be in the following JSON format:\n",
    "\n",
    "```json\n",
    "{\"_id\": \"3205311761\",\n",
    " \"created\": {\"version\": \"1\",\n",
    "             \"timestamp\": \"2014-11-25T21:38:36Z\",\n",
    "             \"changeset\": \"27032256\",\n",
    "             \"uid\": \"2485698\",\n",
    "             \"user\": \"tandesmond\"},\n",
    " \"pos\": [1.3081957, 103.8551761]\n",
    " \"address\": {\"housenumber\": \"641, #20-50\",\n",
    "             \"postcode\": \"200641\",\n",
    "             \"street\": \"Rowell Road\"},\n",
    " \"name\": \"Por's house\",\n",
    " \"phone\": \"+65 6396 0609\"}\n",
    "```"
   ]
  },
  {
   "cell_type": "markdown",
   "metadata": {},
   "source": [
    "## Section I - Data Auditing"
   ]
  },
  {
   "cell_type": "markdown",
   "metadata": {},
   "source": [
    "The mother of all steps is to first import all the required libraries and define the OSM filename variable."
   ]
  },
  {
   "cell_type": "code",
   "execution_count": 23,
   "metadata": {
    "collapsed": true
   },
   "outputs": [],
   "source": [
    "import xml.etree.cElementTree as ET\n",
    "import pprint\n",
    "import re\n",
    "from collections import defaultdict\n",
    "from pymongo import MongoClient\n",
    "import codecs\n",
    "import json\n",
    "import time\n",
    "OSMFILE = \"data/singapore.osm\""
   ]
  },
  {
   "cell_type": "markdown",
   "metadata": {},
   "source": [
    "To have an overview understanding of the XML file, we will start by analyzing the types and occurences of elements in the XML file. This allows us to understand what are the important elements to focus on and what are the relationships among those elements.\n",
    "\n",
    "The function **`count_tags()`** receives an input of a dataset filename and returns a dictionary with the element name as the key and its number of occurence as the value."
   ]
  },
  {
   "cell_type": "code",
   "execution_count": 24,
   "metadata": {
    "collapsed": true
   },
   "outputs": [],
   "source": [
    "def count_tags(filename):\n",
    "        # YOUR CODE HERE\n",
    "        tags = defaultdict(int)\n",
    "        tree = ET.parse(filename)\n",
    "        for line in tree.iter():\n",
    "            tags[line.tag] = tags[line.tag] + 1\n",
    "            \n",
    "        return tags"
   ]
  },
  {
   "cell_type": "code",
   "execution_count": 25,
   "metadata": {
    "collapsed": false
   },
   "outputs": [
    {
     "name": "stdout",
     "output_type": "stream",
     "text": [
      "Element tags and occurrences of Singapore.osm:\n",
      "\n",
      "[('nd', 1734689),\n",
      " ('node', 1403705),\n",
      " ('tag', 612441),\n",
      " ('way', 214512),\n",
      " ('member', 81691),\n",
      " ('relation', 2312),\n",
      " ('bounds', 1),\n",
      " ('osm', 1)]\n",
      "\n",
      "--- 28.503000021 seconds ---\n"
     ]
    }
   ],
   "source": [
    "start_time = time.time()\n",
    "tags = count_tags(OSMFILE)\n",
    "\n",
    "#sort the tags dictionary by its value and assign it back to a list.\n",
    "sorted_by_occurrence = [(key,tags[key]) for key in sorted(tags, key=tags.get, reverse=True) ]\n",
    "\n",
    "print 'Element tags and occurrences of Singapore.osm:\\n'\n",
    "pprint.pprint(sorted_by_occurrence)\n",
    "\n",
    "print('\\n--- %s seconds ---' % (time.time() - start_time))"
   ]
  },
  {
   "cell_type": "markdown",
   "metadata": {},
   "source": [
    "The most striking finding is that there are two elements that appear only once:\n",
    "- `<bounds>`: defining the OSM boundary, such as max latitude-longitude and min latitude-longitude coordinates of the OSM file\n",
    "- `<osm>`: defining metadata such as the version of the osm file\n",
    "\n",
    "There are three 'building-block' elements representing the physical world:\n",
    "-  `<node>`: representing the latitude and longitude of the earth's surface\n",
    "- `<way>`: representing linear features such as river and roads. It also represents boundaries of areas such as buildings or forests.\n",
    "- `<relation>`: representing relationship between two or more data elements (nodes, ways, and/or other relations). \n",
    "\n",
    "The other three elements:\n",
    "- `<tag>`: describing the meaning of the particular element to which they are attached. For example, **`highway=residential`** defines the way as a road whose main function is to give access to people's homes.\n",
    "- `<nd>`, `<member>` : child tags under `<way>` and `<relation>` respectively. they contain information that further describes the parent elements they are attached to. For example, `<nd>` may contain reference id that points to `<node>` describing the latitude and longitude of `<way>` element."
   ]
  },
  {
   "cell_type": "markdown",
   "metadata": {},
   "source": [
    "Next, we will investigate the variation of attributes in the dataset.\n",
    "\n",
    "The function **`count_attrs()`** receives an input of a dataset filename and returns a dictionary with the attribute name as the key and its number of occurence as the value."
   ]
  },
  {
   "cell_type": "code",
   "execution_count": 26,
   "metadata": {
    "collapsed": true
   },
   "outputs": [],
   "source": [
    "def count_attrs(filename):\n",
    "    attrs = defaultdict(int)\n",
    "    for event, elem in ET.iterparse(filename, events=('start', 'end')):\n",
    "        if event == 'end':\n",
    "            for attr in elem.attrib:\n",
    "                attrs[attr] += 1\n",
    "    return attrs"
   ]
  },
  {
   "cell_type": "code",
   "execution_count": 27,
   "metadata": {
    "collapsed": false
   },
   "outputs": [
    {
     "name": "stdout",
     "output_type": "stream",
     "text": [
      "Element tags and occurrences of Singapore.osm:\n",
      "\n",
      "[('ref', 1816380),\n",
      " ('timestamp', 1620530),\n",
      " ('version', 1620530),\n",
      " ('changeset', 1620529),\n",
      " ('uid', 1620529),\n",
      " ('user', 1620529),\n",
      " ('id', 1620529),\n",
      " ('lon', 1403705),\n",
      " ('lat', 1403705),\n",
      " ('k', 612441),\n",
      " ('v', 612441),\n",
      " ('type', 81691),\n",
      " ('role', 81691),\n",
      " ('maxlon', 1),\n",
      " ('generator', 1),\n",
      " ('minlat', 1),\n",
      " ('maxlat', 1),\n",
      " ('minlon', 1)]\n",
      "\n",
      "--- 27.506000042 seconds ---\n"
     ]
    }
   ],
   "source": [
    "start_time = time.time()\n",
    "attrs = count_attrs(OSMFILE)\n",
    "sorted_by_occurrence = [(key,attrs[key]) for key in sorted(attrs, key=attrs.get, reverse=True) ]\n",
    "\n",
    "print 'Element tags and occurrences of Singapore.osm:\\n'\n",
    "pprint.pprint(sorted_by_occurrence)\n",
    "\n",
    "print('\\n--- %s seconds ---' % (time.time() - start_time))"
   ]
  },
  {
   "cell_type": "markdown",
   "metadata": {},
   "source": [
    "The important attributes here are 'k' and 'v' because they contain the information of `<tag>` describing the 3 'building-block' elements (node, way, relation) that were mentioned above.\n",
    "\n",
    "For example:\n",
    "```xml\n",
    "<node id=\"4310528089\" visible=\"true\" version=\"1\" changeset=\"40850743\" timestamp=\"2016-07-19T08:41:53Z\" user=\"서상범\" uid=\"3836172\" lat=\"1.3177194\" lon=\"103.8525915\">\n",
    "  <tag k=\"amenity\" v=\"restaurant\"/>\n",
    "  <tag k=\"name\" v=\"빠꾸떼 갈비탕\"/>\n",
    " </node>\n",
    "```\n",
    "\n",
    "In the example above, we can see that 'k' and 'v' describe the parent `<node>` as \"amenity\" and also describe the name of the amenity."
   ]
  },
  {
   "cell_type": "markdown",
   "metadata": {},
   "source": [
    "Naturally, the next step is to find out the types and the number of occurence of the 'k' and 'v' attributes.\n",
    "\n",
    "The function **`count_keys()`** receives an input of a dataset filename and returns a dictionary with the 'k' attribute as the key and its number of occurence as the value."
   ]
  },
  {
   "cell_type": "code",
   "execution_count": 28,
   "metadata": {
    "collapsed": true
   },
   "outputs": [],
   "source": [
    "def count_keys(filename):\n",
    "    keys = defaultdict(int)\n",
    "    for event, elem in ET.iterparse(filename, events=('start', 'end')):\n",
    "        if event == 'end':\n",
    "            key = elem.attrib.get('k')\n",
    "            if key:\n",
    "                keys[key] += 1\n",
    "    return keys"
   ]
  },
  {
   "cell_type": "code",
   "execution_count": 29,
   "metadata": {
    "collapsed": false
   },
   "outputs": [
    {
     "name": "stdout",
     "output_type": "stream",
     "text": [
      "Keys and occurrence in Singapore.osm:\n",
      "\n",
      "[('building', 116024),\n",
      " ('highway', 88188),\n",
      " ('name', 63616),\n",
      " ('source', 42642),\n",
      " ('addr:street', 31527),\n",
      " ('addr:city', 25329),\n",
      " ('addr:housenumber', 22720),\n",
      " ('addr:postcode', 20305),\n",
      " ('oneway', 18612),\n",
      " ('addr:country', 12453),\n",
      " ('amenity', 10201),\n",
      " ('garmin_type', 10084),\n",
      " ('catmp-RoadID', 7873),\n",
      " ('service', 6860),\n",
      " ('created_by', 6253),\n",
      " ('location', 4968),\n",
      " ('asset_ref', 4954),\n",
      " ('route_ref', 4906),\n",
      " ('surface', 4801),\n",
      " ('building:levels', 4475)]\n",
      "\n",
      "--- 25.8220000267 seconds ---\n"
     ]
    }
   ],
   "source": [
    "start_time = time.time()\n",
    "keys = count_keys(OSMFILE)\n",
    "sorted_by_occurrence = [(key,keys[key]) for key in sorted(keys, key=keys.get, reverse=True) ]\n",
    "\n",
    "print 'Keys and occurrence in Singapore.osm:\\n'\n",
    "pprint.pprint(sorted_by_occurrence[:20])\n",
    "\n",
    "print('\\n--- %s seconds ---' % (time.time() - start_time))"
   ]
  },
  {
   "cell_type": "markdown",
   "metadata": {},
   "source": [
    "From the results above, we can see that there are mainly 5 formats of the 'k' attribute:\n",
    "- lowercase only, e.g. 'building', 'highway'\n",
    "- lowercase letter with underscore ('\\_'), e.g. 'public_transport', 'opening_hours'\n",
    "- lowercase letter with one colon ('\\:'), e.g. 'addr:street', 'addr:city'. The hierarchy of key is separated by semicolon. It means that 'addr' is the primary key, 'city' is the secondary key describing the 'addr'.\n",
    "- lowercase letter with two colons ('\\:'), e.g. 'seamark:light:character', 'seamark:light:colour'\n",
    "- others\n",
    "\n",
    "We will use functions with regex matching to check for those formats and also potentially problematic formats:\n",
    "- 'lower': to check for lowercase letter and lowercase letter with underscore\n",
    "- 'lower_colon': to check for lowercase letter with colon\n",
    "- 'lower_two_colon': to check for lowercase letter with two colons\n",
    "- 'problemchars': to check for potential problematic chars with invalid symbols or blank spaces in between"
   ]
  },
  {
   "cell_type": "code",
   "execution_count": 30,
   "metadata": {
    "collapsed": false
   },
   "outputs": [],
   "source": [
    "lower = re.compile(r'^([a-z]|_)*$')\n",
    "lower_colon = re.compile(r'^([a-z]|_)*\\:([a-z]|_)*$')\n",
    "lower_two_colon = re.compile(r'^([a-z]|_)*\\:([a-z]|_)*\\:([a-z]|_)*$')\n",
    "problemchars = re.compile(r'[=\\+/&<>;\\'\"\\?%#$@\\,\\. \\t\\r\\n]')"
   ]
  },
  {
   "cell_type": "code",
   "execution_count": 31,
   "metadata": {
    "collapsed": true
   },
   "outputs": [],
   "source": [
    "def key_type(element, keys):\n",
    "    if element.tag == \"tag\":\n",
    "        if problemchars.search(element.attrib['k']):\n",
    "            keys['problemchars'].append(element.attrib['k'])       \n",
    "        elif lower_colon.search(element.attrib['k']):\n",
    "            keys['lower_colon'].append(element.attrib['k'])\n",
    "        elif lower_two_colon.search(element.attrib['k']):\n",
    "            keys['lower_two_colon'].append(element.attrib['k'])\n",
    "        elif lower.search(element.attrib['k']):\n",
    "            keys['lower'].append(element.attrib['k'])\n",
    "        else:\n",
    "            keys['other'] .append(element.attrib['k'])          \n",
    "    return keys"
   ]
  },
  {
   "cell_type": "code",
   "execution_count": 32,
   "metadata": {
    "collapsed": true
   },
   "outputs": [],
   "source": [
    "def process_map(filename):\n",
    "    keys = {\"lower\": [], \"lower_colon\": [], \"lower_two_colon\": [],\"problemchars\": [], \"other\": []}\n",
    "    for _, element in ET.iterparse(filename):\n",
    "        keys = key_type(element, keys)\n",
    "    return keys"
   ]
  },
  {
   "cell_type": "code",
   "execution_count": 33,
   "metadata": {
    "collapsed": false,
    "scrolled": false
   },
   "outputs": [
    {
     "name": "stdout",
     "output_type": "stream",
     "text": [
      "Keys and occurrence in singapore.osm:\n",
      "\n",
      "[('lower', 468682),\n",
      " ('lower_colon', 130858),\n",
      " ('other', 9818),\n",
      " ('lower_two_colon', 3079),\n",
      " ('problemchars', 4)]\n",
      "\n",
      "--- 26.8359999657 seconds ---\n"
     ]
    }
   ],
   "source": [
    "start_time = time.time()\n",
    "keys = process_map(OSMFILE)\n",
    "sorted_by_occurrence = [(key,len(keys[key])) for key in sorted(keys, key=lambda k:len(keys[k]), reverse=True) ]\n",
    "\n",
    "print 'Keys and occurrence in singapore.osm:\\n'\n",
    "pprint.pprint(sorted_by_occurrence)\n",
    "\n",
    "print('\\n--- %s seconds ---' % (time.time() - start_time))"
   ]
  },
  {
   "cell_type": "markdown",
   "metadata": {},
   "source": [
    "From the result above, we can see that there is still around 1.6% of the datasets in the 'other' and 'problemchars' category. This may signify some invalid format that needs to be corrected.\n",
    "\n",
    "As such, we will print out each of the dictionary key-value pair to check if the result is as what we expected."
   ]
  },
  {
   "cell_type": "code",
   "execution_count": 34,
   "metadata": {
    "collapsed": false
   },
   "outputs": [
    {
     "name": "stdout",
     "output_type": "stream",
     "text": [
      "['ref', 'highway', 'created_by', 'created_by', 'ref', 'highway', 'ref', 'highway', 'ref', 'name']\n"
     ]
    }
   ],
   "source": [
    "print(keys['lower'][:10])"
   ]
  },
  {
   "cell_type": "code",
   "execution_count": 35,
   "metadata": {
    "collapsed": false
   },
   "outputs": [
    {
     "name": "stdout",
     "output_type": "stream",
     "text": [
      "['name:en', 'name:zh', 'name:en', 'name:zh', 'name:en', 'name:zh', 'name:en', 'name:zh', 'name:en', 'name:zh']\n"
     ]
    }
   ],
   "source": [
    "print(keys['lower_colon'][:10])"
   ]
  },
  {
   "cell_type": "code",
   "execution_count": 36,
   "metadata": {
    "collapsed": false
   },
   "outputs": [
    {
     "name": "stdout",
     "output_type": "stream",
     "text": [
      "['seamark:light:range', 'seamark:light:colour', 'seamark:light:height', 'seamark:light:period', 'seamark:landmark:height', 'seamark:light:character', 'seamark:light:reference', 'seamark:radar_transponder:group', 'seamark:radar_transponder:category', 'seamark:light:group']\n"
     ]
    }
   ],
   "source": [
    "print(keys['lower_two_colon'][:10])"
   ]
  },
  {
   "cell_type": "code",
   "execution_count": 38,
   "metadata": {
    "collapsed": false
   },
   "outputs": [
    {
     "name": "stdout",
     "output_type": "stream",
     "text": [
      "['naptan:Bearing', 'name:zh-yue', 'name:bat-smg', 'name:fiu-vro', 'name:map-bms', 'name:roa-rup', 'name:roa-tara', 'name:be-tarask', 'name:zh-min-nan', 'name:zh-classical']\n"
     ]
    }
   ],
   "source": [
    "print(keys['other'][:10])"
   ]
  },
  {
   "cell_type": "code",
   "execution_count": 24,
   "metadata": {
    "collapsed": false
   },
   "outputs": [
    {
     "name": "stdout",
     "output_type": "stream",
     "text": [
      "['LT 7', 'Singapore Poly', 'GARAGE SOLAR ENERGY 1', 'race course']\n"
     ]
    }
   ],
   "source": [
    "print(keys['problemchars'])"
   ]
  },
  {
   "cell_type": "markdown",
   "metadata": {},
   "source": [
    "From the results above, we can see that:\n",
    "\n",
    "For 'lower', 'lower_colon', 'lower_two_colon', the result is the same as what we have expected.\n",
    "\n",
    "The interesting finding is in 'other' and 'problemchars'. \n",
    "In 'others', we can see some interesting format:\n",
    "- lowercase with hyphen ('-'), e.g. 'name:zh-yue', 'name:zh-classical'\n",
    "- lowercase with multiple colons (':'), e.g. 'seamark:light:1:range', 'seamark:light:3:group'\n",
    "- uppercase letters,e.g. 'Longitude', 'Latitude'\n",
    "- letters with numeric characters: e.g. 'W1213', 'T1A'\n",
    "- combination of different formats, e.g. 'Data_Dicti', 'fuel:octane_95'\n",
    "\n",
    "In 'problemchars', we have caught 'k' values containing uppercases and also blank spaces.\n",
    "\n",
    "To standardize those interesting formats, it will take lots of time and probably also high-level regex skills. As such, we will not be touching on it in this project."
   ]
  },
  {
   "cell_type": "markdown",
   "metadata": {},
   "source": [
    "## Section II: Problems in the OSM File and Writing Dataset to Database"
   ]
  },
  {
   "cell_type": "markdown",
   "metadata": {},
   "source": [
    "Besides auditing the elements, attributes, and keys, we also need to analyze the contents of the 'key' element, in which there may be some inconsistent / unstandardized data format.\n",
    "\n",
    "In this case, I obtained a small subset of the OSM file to find any potential issues. Some of the problems that I discovered include:\n",
    "- Data from **other countries** (from Malaysia and Indonesia)\n",
    "- Unstandardized **street name** abbreviations (such as Jl, Jln)\n",
    "- Unstandardized **house numbers**\n",
    "- Unstandardized **phone numbers**\n",
    "- Invalid **postal codes** (Singapore postal codes should be 6 digits)\n",
    "- Names in **other languages**, such as in Chinese, Malay, or even Korean"
   ]
  },
  {
   "cell_type": "markdown",
   "metadata": {},
   "source": [
    "The regular expressions below are used to check on some of the aforementioned issues:\n",
    "- phone_re: to check for unstandardized phone numbers\n",
    "- housenumber_re: to check for unstandardized house numbers\n",
    "- postcode_re: to check for invalid postal codes"
   ]
  },
  {
   "cell_type": "code",
   "execution_count": 25,
   "metadata": {
    "collapsed": true
   },
   "outputs": [],
   "source": [
    "phone_re = re.compile(r'(60|65|\\+60|\\+65)?\\D?(\\d{4})\\D?(\\d{4})', re.IGNORECASE)\n",
    "housenumber_re = re.compile(r'(\\d+[a-z]?|#?\\d{2}-\\d{2}|blk \\d+)', re.IGNORECASE)\n",
    "postcode_re = re.compile(r'^\\d{6}$')"
   ]
  },
  {
   "cell_type": "markdown",
   "metadata": {},
   "source": [
    "We define the variables below for data cleaning and transformation:\n",
    "- CREATED: for transformation of XML to JSON. This variables holds the key for the JSON data structure.\n",
    "- expected: for the expected content of street/ address element. This will be used to check whether there is any strange or inconsistent street / address element\n",
    "- mapping: dictionary for mapping out invalid/ inconsistent street element"
   ]
  },
  {
   "cell_type": "code",
   "execution_count": 26,
   "metadata": {
    "collapsed": true
   },
   "outputs": [],
   "source": [
    "#Variables for data cleaning and data transformation\n",
    "\n",
    "#for the creation information\n",
    "CREATED = [ \"version\", \"changeset\", \"timestamp\", \"user\", \"uid\"]\n",
    "\n",
    "#expected content of address element\n",
    "expected = [\"Street\", \"Avenue\", \"Boulevard\", \"Drive\", \"Court\", \"Place\", \"Square\", \"Lane\", \"Road\", \n",
    "            \"Trail\", \"Parkway\", \"Commons\", \"Way\", \"Walk\", \"View\", \"Valley\", \"Green\", \"Crescent\", \"Terrace\", \"road\"]\n",
    "\n",
    "#dictionary for mapping out invalid/ unstandardized street element\n",
    "mapping = { \n",
    "            \"Ave\": \"Avenue\",\n",
    "            \"Rd.\" : \"Road\",\n",
    "            \"Rd\" : \"Road\",\n",
    "            \"Jl.\" : \"Jalan \",\n",
    "            \"Jl\" : \"Jalan\",\n",
    "            \"Jln\" : \"Jalan\",\n",
    "            \"Btk\" : \"Butik\",\n",
    "            \"Upp\" : \"Upper\"\n",
    "            }"
   ]
  },
  {
   "cell_type": "markdown",
   "metadata": {},
   "source": [
    "The function **`cleanName(name)`** checks for unstandardized address element according to the 'mapping' dictionary as defined above."
   ]
  },
  {
   "cell_type": "code",
   "execution_count": 27,
   "metadata": {
    "collapsed": true
   },
   "outputs": [],
   "source": [
    "# transforms unstandardized address element\n",
    "def cleanName(name):\n",
    "    for key,val in mapping.iteritems():\n",
    "        name = re.sub(key,val, name) #if 'name' matches with 'key', substitute it with 'val'\n",
    " \n",
    "    return name"
   ]
  },
  {
   "cell_type": "markdown",
   "metadata": {},
   "source": [
    "The function **`cleanPhoneNumber(phone_number)`** checks for unstandardized phone numbers. This is done with adding the country code (+65) to the phone numbers, as well as by using regex 'phone_re' to check for invalid phone number format."
   ]
  },
  {
   "cell_type": "code",
   "execution_count": 28,
   "metadata": {
    "collapsed": true
   },
   "outputs": [],
   "source": [
    "#transforms unstandardized phone numbers\n",
    "def cleanPhoneNumber(phone_number):\n",
    "    \n",
    "    #print phone_number\n",
    "    if not phone_number:\n",
    "        return \t\n",
    "\n",
    "    phone_number = phone_number.replace(\" \", \"\")\n",
    "    phone_number = phone_number.replace(\"-\", \"\")\n",
    "    if len(phone_number) == 8 :\n",
    "        phone_number = \"+65\" + phone_number \n",
    "\n",
    "    m = phone_re.search(phone_number)\n",
    "    if not m:\n",
    "        print \"EXCEPTION phone Number: \" +phone_number    \n",
    "        return None\n",
    "    else:\n",
    "        return m.group()"
   ]
  },
  {
   "cell_type": "markdown",
   "metadata": {},
   "source": [
    "The function **`cleanHouseNumber(house_number)`** checks for unstandardized house numbers. This is done by using regex to check whether the house has any block numbers, and also the consistency of the unit number formatting."
   ]
  },
  {
   "cell_type": "code",
   "execution_count": 29,
   "metadata": {
    "collapsed": true
   },
   "outputs": [],
   "source": [
    "#transforms unstandardized house numbers\n",
    "def cleanHouseNumber(house_number):\n",
    "    \n",
    "    #print house\n",
    "    if not house_number:\n",
    "        return\n",
    "    \n",
    "    m = housenumber_re.search(house_number)\n",
    "    if not m:\n",
    "        print \"EXCEPTION House Number: \" +house_number\n",
    "        return None\n",
    "    else:\n",
    "        return m.group()"
   ]
  },
  {
   "cell_type": "markdown",
   "metadata": {},
   "source": [
    "The function **`cleanPostCode(postcode)`** checks for unstandardized postal codes. This is done by using regex to check whether the value of the postal codes are 6 characters long."
   ]
  },
  {
   "cell_type": "code",
   "execution_count": 30,
   "metadata": {
    "collapsed": true
   },
   "outputs": [],
   "source": [
    "def cleanPostCode(postcode):\n",
    "    \n",
    "    if not postcode:\n",
    "        return None\n",
    "    \n",
    "    m = postcode_re.search(postcode.strip())\n",
    "    if not m:\n",
    "        print \"EXCEPTION postcode: \" +postcode\n",
    "        return None\n",
    "    else:\n",
    "        return m.group()"
   ]
  },
  {
   "cell_type": "markdown",
   "metadata": {},
   "source": [
    "The function **`cleanValue(tag)`** checks for unstandardized postal codes. This is done by using regex to check whether the value of the postal codes are 6 characters long."
   ]
  },
  {
   "cell_type": "code",
   "execution_count": 31,
   "metadata": {
    "collapsed": true
   },
   "outputs": [],
   "source": [
    "def cleanValue(tag):\n",
    "    #print \":D\"\n",
    "     \n",
    "    if is_streetName_or_name(tag):\n",
    "        return cleanName(tag.attrib['v'])\n",
    "    elif is_phone_number(tag):\n",
    "        return cleanPhoneNumber(tag.attrib['v'])\n",
    "    elif is_house_number(tag):\n",
    "        return cleanHouseNumber(tag.attrib['v'])                    \n",
    "    elif tag.attrib['k'] == \"addr:postcode\":\n",
    "        return cleanPostCode(tag.attrib['v'])  "
   ]
  },
  {
   "cell_type": "markdown",
   "metadata": {},
   "source": [
    "The functions below check 'k' attributes to see which 'k' types (e.g. street, phone) it belongs to."
   ]
  },
  {
   "cell_type": "code",
   "execution_count": 32,
   "metadata": {
    "collapsed": true
   },
   "outputs": [],
   "source": [
    "#check for the value of 'k' attributes\n",
    "def is_streetName_or_name(elem):\n",
    "    return (elem.attrib['k'] == \"addr:street\" or elem.attrib['k'] == \"name\")\n",
    "def is_phone_number(elem):\n",
    "    return (elem.attrib['k'] == \"phone\")\n",
    "def is_house_number(elem):\n",
    "    return (elem.attrib['k'] == \"addr:housenumber\")\t\n",
    "def is_source(elem):\n",
    "    return (elem.attrib['k'] == \"source\")"
   ]
  },
  {
   "cell_type": "markdown",
   "metadata": {},
   "source": [
    "The function **`inSingapore(tag)`** checks whether an area is within the Singapore city."
   ]
  },
  {
   "cell_type": "code",
   "execution_count": 33,
   "metadata": {
    "collapsed": true
   },
   "outputs": [],
   "source": [
    "def inSingapore(tag):\n",
    "    \n",
    "    if tag.get('k') == \"addr:city\" and tag.get('v') != 'Singapore':\n",
    "        return False\n",
    "    if tag.get('k') == \"is_in:country\" and tag.get('v') != 'Singapore'    :\n",
    "        return False\n",
    "    if tag.get('k') == \"addr:country\" and tag.get('v') != 'SG'    :\n",
    "        return False        \n",
    "\n",
    "    return True"
   ]
  },
  {
   "cell_type": "markdown",
   "metadata": {},
   "source": [
    "The function **`shape_element(element)`** transforms OSM XML to the desired JSON format to be exported to MongoDB."
   ]
  },
  {
   "cell_type": "code",
   "execution_count": 83,
   "metadata": {
    "collapsed": true
   },
   "outputs": [],
   "source": [
    "def shape_element(element):\n",
    "    node = {}\n",
    "    if  element.tag == \"node\" or element.tag == \"way\" :\n",
    "        # YOUR CODE HERE\n",
    "        node['id'] =  element.get('id')\n",
    "        node['type'] =  element.tag \n",
    "        node['visible'] =  \"true\"\n",
    "        node['names']={}\n",
    "        node['address'] = {}\n",
    "        node['node_refs'] =[]\n",
    "        node['created']={}\n",
    "        \n",
    "        #get the element based on the key in CREATED dict\n",
    "        for c in CREATED:\n",
    "            node['created'][c] = element.get(c)\n",
    "        \n",
    "        #get the lat and long position\n",
    "        if element.get('lat') and element.get('lon'):\n",
    "            node['pos'] = [float(element.get('lat')),float(element.get('lon'))]\n",
    "        \n",
    "        #processing 'tag' children element\n",
    "        for tag in element.iter('tag'):\n",
    "            if not tag.get('k') or problemchars.search(tag.get('k')):\n",
    "                continue\n",
    "                \n",
    "            #excluding areas belonging to Malaysia or Indonesia    \n",
    "            if not inSingapore(tag) :\n",
    "                return None\n",
    "                \n",
    "            tagKey = tag.get('k')\n",
    "            #check for invalid tag that starts with a colon\n",
    "            if tagKey.startswith(':'): \n",
    "                tagKey = tagKey[1:]           \n",
    "            \n",
    "            if tagKey.startswith('name:'): #check for names in other languages: zh, ms, en, in\n",
    "                node['names'][tagKey[5:]] = tag.get('v')\n",
    "            elif tagKey.startswith('alt_name:'): #check for the alternate name of an amenity\n",
    "                node['names']['alt'] = tag.get('v')\n",
    "            elif tagKey == 'name': #name of an amenity\n",
    "                node['name'] = cleanValue(tag)               \n",
    "            elif tagKey.startswith('addr:'): #address tag\n",
    "                node['address'][tagKey[5:]] = cleanValue(tag)                            \n",
    "            else:\n",
    "                node[tagKey] = tag.get('v')\t\n",
    "                        \n",
    "        #processing 'nd' children element under 'way' element\n",
    "        for tag in element.iter('nd'):\n",
    "            node['node_refs'].append(tag.get('ref'))\n",
    "\n",
    "        return node \n",
    "    else:\n",
    "        return None"
   ]
  },
  {
   "cell_type": "markdown",
   "metadata": {},
   "source": [
    "The function **`process_map(file_in, pretty=False)`** write the transformed JSON data to MongoDB"
   ]
  },
  {
   "cell_type": "code",
   "execution_count": 84,
   "metadata": {
    "collapsed": true
   },
   "outputs": [],
   "source": [
    "def process_map(file_in, pretty=False):\n",
    "    file_out = \"{0}.json\".format(file_in)\n",
    "    data = []\n",
    "    client = MongoClient()\n",
    "    db = client.final_project\n",
    "    collection = db.singaporeOSM\n",
    "    \n",
    "    with codecs.open(file_out, \"w\") as fo:\n",
    "        for _, element in ET.iterparse(file_in):\n",
    "            \n",
    "            el = shape_element(element)\n",
    "            if el:\n",
    "                data.append(el)\n",
    "\n",
    "                if pretty:\n",
    "                    fo.write(json.dumps(el, indent=2)+\"\\n\")\n",
    "                else:\n",
    "                    fo.write(json.dumps(el) + \"\\n\")\n",
    "                    \n",
    "    collection.insert_many(data)    #write into mongodb    \n",
    "    \n",
    "    return data"
   ]
  },
  {
   "cell_type": "code",
   "execution_count": 85,
   "metadata": {
    "collapsed": true
   },
   "outputs": [],
   "source": [
    "def run():\n",
    "    process_map(OSMFILE)"
   ]
  },
  {
   "cell_type": "code",
   "execution_count": 86,
   "metadata": {
    "collapsed": false
   },
   "outputs": [
    {
     "name": "stdout",
     "output_type": "stream",
     "text": [
      "EXCEPTION House Number: Off upper Thomson\n",
      "EXCEPTION postcode: 29425\n",
      "EXCEPTION House Number: Salmart Batam\n",
      "EXCEPTION postcode: 135\n",
      "EXCEPTION House Number: Perguruan Vingtsun Batam\n",
      "EXCEPTION postcode: 29463\n",
      "EXCEPTION postcode: 29461\n",
      "EXCEPTION postcode: 29461\n",
      "EXCEPTION postcode: 29464\n",
      "EXCEPTION House Number: LPMI Batam\n",
      "EXCEPTION postcode: 29433\n",
      "EXCEPTION House Number: Warung Butik\n",
      "EXCEPTION House Number: BCS Mall\n",
      "EXCEPTION House Number: New Place Pub & Restaurant\n",
      "EXCEPTION postcode: Singapore 408564\n",
      "EXCEPTION House Number: Gbabe Fashions\n",
      "EXCEPTION House Number: CONG JAYA\n",
      "EXCEPTION House Number: Sentosa Island, Singapore\n",
      "EXCEPTION postcode: 29464\n",
      "EXCEPTION House Number: Xamthone Herbal\n",
      "EXCEPTION postcode: S118556\n",
      "EXCEPTION postcode: 29464\n",
      "EXCEPTION postcode: 80200\n",
      "EXCEPTION postcode: 81310\n",
      "EXCEPTION postcode: 81310\n",
      "EXCEPTION postcode: 81310\n",
      "EXCEPTION postcode: 81300\n",
      "EXCEPTION postcode: 81200\n",
      "EXCEPTION postcode: 80400\n",
      "EXCEPTION postcode: 80400\n",
      "EXCEPTION postcode: 80400\n",
      "EXCEPTION postcode: 2424\n",
      "EXCEPTION House Number: B\n",
      "EXCEPTION postcode: S 278989\n",
      "EXCEPTION House Number: Ground floor\n",
      "EXCEPTION postcode: 81100\n",
      "EXCEPTION postcode: S120517\n",
      "EXCEPTION postcode: 05901\n",
      "EXCEPTION House Number: Pandai Batam\n",
      "EXCEPTION postcode: 80300\n",
      "EXCEPTION postcode: 81700\n",
      "EXCEPTION postcode: 81700\n",
      "EXCEPTION postcode: 81100\n",
      "EXCEPTION postcode: 80000\n",
      "EXCEPTION postcode: 81200\n",
      "EXCEPTION postcode: 81900\n",
      "EXCEPTION postcode: 81700\n",
      "EXCEPTION postcode: 81750\n",
      "EXCEPTION postcode: 80040\n",
      "EXCEPTION postcode: 81300\n",
      "EXCEPTION postcode: 81000\n",
      "EXCEPTION postcode: 81060\n",
      "EXCEPTION postcode: 79100\n",
      "EXCEPTION postcode: 81200\n",
      "EXCEPTION postcode: 81000\n",
      "EXCEPTION postcode: 81300\n",
      "EXCEPTION postcode: 81000\n",
      "EXCEPTION postcode: 81000\n",
      "EXCEPTION postcode: 81000\n",
      "EXCEPTION postcode: 81000\n",
      "EXCEPTION postcode: 81450\n",
      "EXCEPTION postcode: 81450\n",
      "EXCEPTION postcode: 81450\n",
      "EXCEPTION postcode: 88752\n",
      "EXCEPTION postcode: 81300\n",
      "EXCEPTION postcode: 81300\n",
      "EXCEPTION postcode: 81300\n",
      "EXCEPTION postcode: 81300\n",
      "EXCEPTION postcode: 81200\n",
      "EXCEPTION postcode: 81300\n",
      "EXCEPTION postcode: 81300\n",
      "EXCEPTION postcode: 80400\n",
      "EXCEPTION postcode: 81200\n",
      "EXCEPTION postcode: 80000\n",
      "EXCEPTION postcode: 80000\n",
      "EXCEPTION postcode: 80000\n",
      "EXCEPTION postcode: 80000\n",
      "EXCEPTION postcode: 81200\n",
      "EXCEPTION postcode: 29466\n",
      "EXCEPTION postcode: 24961\n",
      "EXCEPTION postcode: 80000\n",
      "EXCEPTION postcode: 81200\n",
      "EXCEPTION postcode: 80150\n",
      "EXCEPTION postcode: 2222\n",
      "EXCEPTION postcode: 80400\n",
      "EXCEPTION postcode: 29432\n",
      "EXCEPTION postcode: 80250\n",
      "EXCEPTION postcode: 81700\n",
      "EXCEPTION postcode: 80250\n",
      "EXCEPTION postcode: #B1-42\n",
      "EXCEPTION postcode: 81800\n",
      "EXCEPTION postcode: 29425\n",
      "EXCEPTION postcode: 29425\n",
      "EXCEPTION postcode: 81000\n",
      "EXCEPTION postcode: 80050\n",
      "EXCEPTION postcode: 80150\n",
      "EXCEPTION postcode: 81000\n",
      "EXCEPTION postcode: 80000\n",
      "EXCEPTION postcode: 81100\n",
      "EXCEPTION postcode: 437 437\n",
      "EXCEPTION postcode: S 642683\n",
      "EXCEPTION postcode: 80000\n",
      "EXCEPTION postcode: <different>\n",
      "EXCEPTION postcode: <different>\n",
      "EXCEPTION postcode: <different>\n",
      "EXCEPTION postcode: <different>\n",
      "EXCEPTION postcode: <different>\n",
      "EXCEPTION postcode: <different>\n",
      "EXCEPTION postcode: <different>\n",
      "EXCEPTION postcode: <different>\n",
      "EXCEPTION postcode: <different>\n",
      "EXCEPTION postcode: <different>\n",
      "EXCEPTION postcode: <different>\n",
      "EXCEPTION postcode: <different>\n",
      "EXCEPTION postcode: <different>\n",
      "EXCEPTION postcode: <different>\n",
      "EXCEPTION postcode: <different>\n",
      "EXCEPTION postcode: <different>\n",
      "EXCEPTION postcode: <different>\n",
      "EXCEPTION postcode: <different>\n",
      "EXCEPTION postcode: <different>\n",
      "EXCEPTION postcode: <different>\n",
      "EXCEPTION postcode: <different>\n",
      "EXCEPTION postcode: <different>\n",
      "EXCEPTION postcode: <different>\n",
      "EXCEPTION postcode: <different>\n",
      "EXCEPTION postcode: <different>\n",
      "EXCEPTION postcode: <different>\n",
      "EXCEPTION postcode: <different>\n",
      "EXCEPTION postcode: <different>\n",
      "EXCEPTION postcode: <different>\n",
      "EXCEPTION postcode: <different>\n",
      "EXCEPTION postcode: <different>\n",
      "EXCEPTION postcode: <different>\n",
      "EXCEPTION postcode: <different>\n",
      "EXCEPTION postcode: <different>\n",
      "EXCEPTION postcode: <different>\n",
      "EXCEPTION postcode: <different>\n",
      "EXCEPTION postcode: <different>\n",
      "EXCEPTION postcode: <different>\n",
      "EXCEPTION postcode: <different>\n",
      "EXCEPTION postcode: <different>\n",
      "EXCEPTION postcode: <different>\n",
      "EXCEPTION postcode: <different>\n",
      "EXCEPTION postcode: <different>\n",
      "EXCEPTION postcode: <different>\n",
      "EXCEPTION postcode: <different>\n",
      "EXCEPTION postcode: <different>\n",
      "EXCEPTION postcode: 80050\n",
      "EXCEPTION House Number: q\n",
      "EXCEPTION House Number: E\n",
      "EXCEPTION House Number: Singapore Home\n",
      "EXCEPTION postcode: 80739\n",
      "EXCEPTION postcode: 80464\n",
      "EXCEPTION postcode: 80463\n",
      "EXCEPTION postcode: 80800\n",
      "EXCEPTION postcode: Bukit Batok Street 25\n",
      "EXCEPTION House Number: ??\n",
      "EXCEPTION House Number: Ministry of Social and Family Development\n",
      "EXCEPTION postcode: 74\n",
      "EXCEPTION postcode: 05901\n",
      "EXCEPTION postcode: 81700\n",
      "EXCEPTION postcode: 81700\n",
      "EXCEPTION postcode: 29464\n",
      "EXCEPTION House Number: Blk x\n",
      "EXCEPTION House Number: Blk x\n",
      "EXCEPTION House Number: Blk x\n",
      "EXCEPTION House Number: Blk x\n",
      "EXCEPTION House Number: Blk x\n",
      "EXCEPTION postcode: 31\n",
      "EXCEPTION postcode: 79200\n",
      "EXCEPTION postcode: 79200\n",
      "EXCEPTION postcode: 79200\n",
      "EXCEPTION postcode: 79200\n",
      "EXCEPTION House Number: E\n",
      "EXCEPTION House Number: R\n",
      "EXCEPTION House Number: B\n",
      "EXCEPTION House Number: S\n",
      "EXCEPTION House Number: M\n",
      "EXCEPTION House Number: H\n",
      "EXCEPTION House Number: Q\n",
      "EXCEPTION House Number: C\n",
      "EXCEPTION House Number: J\n",
      "EXCEPTION House Number: F\n",
      "EXCEPTION House Number: N\n",
      "EXCEPTION House Number: D\n",
      "EXCEPTION House Number: K\n",
      "EXCEPTION House Number: G\n",
      "EXCEPTION House Number: L\n",
      "EXCEPTION House Number: A\n",
      "EXCEPTION House Number: P\n",
      "EXCEPTION postcode: 80000\n",
      "EXCEPTION postcode: 80000\n",
      "EXCEPTION postcode: 81310\n",
      "EXCEPTION postcode: 81310\n",
      "EXCEPTION postcode: 81310\n",
      "EXCEPTION postcode: 81310\n",
      "EXCEPTION postcode: 81310\n",
      "EXCEPTION postcode: 81310\n",
      "EXCEPTION postcode: 81310\n",
      "EXCEPTION postcode: 81310\n",
      "EXCEPTION postcode: 81310\n",
      "EXCEPTION postcode: 81310\n",
      "EXCEPTION postcode: 81310\n",
      "EXCEPTION postcode: 81310\n",
      "EXCEPTION postcode: 81310\n",
      "EXCEPTION postcode: 81310\n",
      "EXCEPTION postcode: 81310\n",
      "EXCEPTION postcode: 81310\n",
      "EXCEPTION postcode: 81310\n",
      "EXCEPTION postcode: 81310\n",
      "EXCEPTION postcode: 81310\n",
      "EXCEPTION postcode: 81310\n",
      "EXCEPTION postcode: 81310\n",
      "EXCEPTION postcode: 81310\n",
      "EXCEPTION postcode: 81210\n",
      "EXCEPTION postcode: 81310\n",
      "EXCEPTION postcode: 81310\n",
      "EXCEPTION postcode: 81310\n",
      "EXCEPTION House Number: B\n",
      "EXCEPTION House Number: E\n",
      "EXCEPTION House Number: G\n",
      "EXCEPTION House Number: K\n",
      "EXCEPTION House Number: A\n",
      "EXCEPTION House Number: C\n",
      "EXCEPTION House Number: J\n",
      "EXCEPTION House Number: D\n",
      "EXCEPTION House Number: F\n",
      "EXCEPTION House Number: H\n",
      "EXCEPTION postcode: <different>\n",
      "EXCEPTION postcode: <different>\n",
      "EXCEPTION postcode: <different>\n",
      "EXCEPTION postcode: 8100\n",
      "EXCEPTION postcode: 81310\n",
      "EXCEPTION House Number: Polo Club Restaurant & Bar\n",
      "EXCEPTION postcode: 80400\n",
      "EXCEPTION postcode: 80400\n",
      "EXCEPTION postcode: 80400\n",
      "EXCEPTION postcode: 80400\n",
      "EXCEPTION postcode: 80400\n",
      "EXCEPTION postcode: 80050\n",
      "EXCEPTION postcode: 80050\n",
      "EXCEPTION postcode: 80150\n",
      "EXCEPTION postcode: 80150\n",
      "EXCEPTION postcode: 80250\n",
      "EXCEPTION postcode: 81100\n",
      "EXCEPTION postcode: 562\n",
      "EXCEPTION postcode: 80250\n",
      "EXCEPTION postcode: 80250\n",
      "EXCEPTION postcode: 81500\n",
      "EXCEPTION postcode: 80350\n",
      "EXCEPTION postcode: 80350\n",
      "EXCEPTION postcode: 80350\n",
      "EXCEPTION postcode: 80250\n",
      "EXCEPTION postcode: 81200\n",
      "EXCEPTION postcode: 642\n",
      "EXCEPTION postcode: 79250\n",
      "EXCEPTION postcode: 79250\n"
     ]
    }
   ],
   "source": [
    "run()"
   ]
  },
  {
   "cell_type": "markdown",
   "metadata": {},
   "source": [
    "## Section III: Overview of the Dataset"
   ]
  },
  {
   "cell_type": "markdown",
   "metadata": {},
   "source": [
    "After writing the cleaned data into MongoDB, it's"
   ]
  },
  {
   "cell_type": "code",
   "execution_count": 50,
   "metadata": {
    "collapsed": false
   },
   "outputs": [],
   "source": [
    "client = MongoClient()\n",
    "db = client.final_project\n",
    "collection = db.singaporeOSM"
   ]
  },
  {
   "cell_type": "code",
   "execution_count": 87,
   "metadata": {
    "collapsed": false
   },
   "outputs": [
    {
     "data": {
      "text/plain": [
       "1603885"
      ]
     },
     "execution_count": 87,
     "metadata": {},
     "output_type": "execute_result"
    }
   ],
   "source": [
    "#Number of documents\n",
    "collection.find().count()"
   ]
  },
  {
   "cell_type": "code",
   "execution_count": 88,
   "metadata": {
    "collapsed": false
   },
   "outputs": [
    {
     "data": {
      "text/plain": [
       "1403235"
      ]
     },
     "execution_count": 88,
     "metadata": {},
     "output_type": "execute_result"
    }
   ],
   "source": [
    "#Number of nodes\n",
    "collection.find({\"type\":\"node\"}).count()"
   ]
  },
  {
   "cell_type": "code",
   "execution_count": 89,
   "metadata": {
    "collapsed": false
   },
   "outputs": [
    {
     "data": {
      "text/plain": [
       "200605"
      ]
     },
     "execution_count": 89,
     "metadata": {},
     "output_type": "execute_result"
    }
   ],
   "source": [
    "#Number of ways\n",
    "collection.find({\"type\":\"way\"}).count()"
   ]
  },
  {
   "cell_type": "code",
   "execution_count": 90,
   "metadata": {
    "collapsed": false
   },
   "outputs": [
    {
     "data": {
      "text/plain": [
       "1749"
      ]
     },
     "execution_count": 90,
     "metadata": {},
     "output_type": "execute_result"
    }
   ],
   "source": [
    "#Number of unique users\n",
    "len(collection.distinct(\"created.user\"))"
   ]
  },
  {
   "cell_type": "code",
   "execution_count": 91,
   "metadata": {
    "collapsed": false
   },
   "outputs": [
    {
     "name": "stdout",
     "output_type": "stream",
     "text": [
      "[{u'_id': u'JaLooNz', u'count': 365639},\n",
      " {u'_id': u'berjaya', u'count': 104158},\n",
      " {u'_id': u'rene78', u'count': 79949},\n",
      " {u'_id': u'cboothroyd', u'count': 74181},\n",
      " {u'_id': u'Luis36995', u'count': 41869}]\n"
     ]
    }
   ],
   "source": [
    "#top 5 contributing users\n",
    "pipeline= [{\"$group\":{\"_id\":'$created.user',\"count\":{\"$sum\":1}}},{\"$sort\":{\"count\":-1}},{\"$limit\":5}]\n",
    "result = collection.aggregate(pipeline)\n",
    "pprint.pprint(list(result))"
   ]
  },
  {
   "cell_type": "code",
   "execution_count": 81,
   "metadata": {
    "collapsed": false
   },
   "outputs": [
    {
     "name": "stdout",
     "output_type": "stream",
     "text": [
      "[{u'_id': 1, u'num_users': 480}]\n"
     ]
    }
   ],
   "source": [
    "#Number of users that only posted once; _id in the output represents the postcount\n",
    "pipeline = [{\"$group\":{\"_id\":\"$created.user\", \"count\":{\"$sum\":1}}},\n",
    "            {\"$group\":{\"_id\":\"$count\", \"num_users\":{\"$sum\":1}}}, {\"$sort\":{\"_id\":1}},\n",
    "            {\"$limit\":1}]\n",
    "result = collection.aggregate(pipeline)\n",
    "pprint.pprint(list(result))"
   ]
  },
  {
   "cell_type": "code",
   "execution_count": 93,
   "metadata": {
    "collapsed": false
   },
   "outputs": [
    {
     "name": "stdout",
     "output_type": "stream",
     "text": [
      "[{u'_id': u'parking', u'count': 2024},\n",
      " {u'_id': u'restaurant', u'count': 1502},\n",
      " {u'_id': u'place_of_worship', u'count': 886},\n",
      " {u'_id': u'school', u'count': 687},\n",
      " {u'_id': u'cafe', u'count': 392},\n",
      " {u'_id': u'fast_food', u'count': 359},\n",
      " {u'_id': u'taxi', u'count': 336},\n",
      " {u'_id': u'fuel', u'count': 331},\n",
      " {u'_id': u'swimming_pool', u'count': 273},\n",
      " {u'_id': u'toilets', u'count': 229}]\n"
     ]
    }
   ],
   "source": [
    "#Top 10 Amenities\n",
    "pipeline = [{\"$match\":{\"amenity\":{\"$exists\":1}}},\n",
    "            {\"$group\":{\"_id\":\"$amenity\", \"count\":{\"$sum\":1}}}, \n",
    "            {\"$sort\":{\"count\":-1}}, {\"$limit\":10}]\n",
    "result = collection.aggregate(pipeline)\n",
    "pprint.pprint(list(result))"
   ]
  },
  {
   "cell_type": "code",
   "execution_count": 98,
   "metadata": {
    "collapsed": false
   },
   "outputs": [
    {
     "name": "stdout",
     "output_type": "stream",
     "text": [
      "[{u'_id': u'muslim', u'count': 495},\n",
      " {u'_id': u'christian', u'count': 191},\n",
      " {u'_id': None, u'count': 97},\n",
      " {u'_id': u'buddhist', u'count': 71},\n",
      " {u'_id': u'hindu', u'count': 17},\n",
      " {u'_id': u'taoist', u'count': 8},\n",
      " {u'_id': u'jewish', u'count': 4},\n",
      " {u'_id': u'sikh', u'count': 3}]\n"
     ]
    }
   ],
   "source": [
    "#Top religions ranked by the count of its 'place_of_worship'\n",
    "pipeline = [{\"$match\":{\"amenity\":{\"$exists\":1},\n",
    "            \"amenity\":\"place_of_worship\"}},\n",
    "            {\"$group\":{\"_id\":\"$religion\", \"count\":{\"$sum\":1}}},\n",
    "            {\"$sort\":{\"count\":-1}}]\n",
    "result = collection.aggregate(pipeline)\n",
    "pprint.pprint(list(result))"
   ]
  },
  {
   "cell_type": "markdown",
   "metadata": {},
   "source": [
    "Surprisingly, Muslim has the most number of 'place_of_worship' when the country most populous religion is Buddhism."
   ]
  },
  {
   "cell_type": "code",
   "execution_count": 100,
   "metadata": {
    "collapsed": false
   },
   "outputs": [
    {
     "name": "stdout",
     "output_type": "stream",
     "text": [
      "[{u'_id': None, u'count': 907},\n",
      " {u'_id': u'chinese', u'count': 116},\n",
      " {u'_id': u'japanese', u'count': 66},\n",
      " {u'_id': u'indian', u'count': 39},\n",
      " {u'_id': u'korean', u'count': 39},\n",
      " {u'_id': u'italian', u'count': 38},\n",
      " {u'_id': u'asian', u'count': 30},\n",
      " {u'_id': u'pizza', u'count': 27},\n",
      " {u'_id': u'regional', u'count': 26},\n",
      " {u'_id': u'seafood', u'count': 17}]\n"
     ]
    }
   ],
   "source": [
    "#top 10 popular cuisine types\n",
    "pipeline = [{\"$match\":{\"amenity\":{\"$exists\":1}, \"amenity\":\"restaurant\"}},\n",
    "            {\"$group\":{\"_id\":\"$cuisine\", \"count\":{\"$sum\":1}}}, \n",
    "            {\"$sort\":{\"count\":-1}}, {\"$limit\":10}]\n",
    "result = collection.aggregate(pipeline)\n",
    "pprint.pprint(list(result))"
   ]
  },
  {
   "cell_type": "markdown",
   "metadata": {},
   "source": [
    "Interestingly, Japanese cuisines seems to be popular in Singapore."
   ]
  },
  {
   "cell_type": "markdown",
   "metadata": {},
   "source": [
    "## Section IV: Further Exploration"
   ]
  },
  {
   "cell_type": "markdown",
   "metadata": {},
   "source": [
    "### Information appearing in arbitrary field that is not expected\n",
    "There are instances, such as, phone number which appears in random field that is not expected to appear at. To resolve this situation, it is extremely complex because we may need to iterate through 'v' attribute for all tags. We may be able to use advanced regex to handle this issue, but it may not be fool proof as well. As such, it will be good to show the comparison of false positive or false negative for this issue.\n",
    "\n",
    "### Alternative ways to verify data accuracy\n",
    "The other way to improve the accuracy of the data is to verify latitude, longitude, street name, phone number, or post code with credible database such data.gov.sg or Google Map. The challenge here is that there may be conflicts when different data sources using different terminology but referring to the same entity. As such, we may apply prioritizing for data sources, in which we can choose to use which data source first in case of conflicts.\n",
    "\n",
    "### Utilizing geospatial features in OSM\n",
    "The power of Open Street Map is that there are latitude and longitudes tagged to various entities. As such, we can use it for geospatial query, such as:\n",
    "- How many restaurants within 500 meter of a location?\n",
    "- If someone wants to open a restaurant business, he/she can explore the number of competitors nearby.\n",
    "- Property pricing exploration: which factors (distance to train station, schools, shopping malls) correlate to property prices? Of course, we will need to merge with additional data sources to get property prices.\n",
    "\n",
    "All this can be implemented with [Turf.js](http://turfjs.org/) and [Leaflet](http://leafletjs.com/), and it can potentially become a very serious and long-term project."
   ]
  },
  {
   "cell_type": "markdown",
   "metadata": {},
   "source": [
    "## References"
   ]
  },
  {
   "cell_type": "markdown",
   "metadata": {},
   "source": [
    "- https://github.com/ryancheunggit/Udacity/blob/master/P3/code.py\n",
    "- https://www.openstreetmap.org/relation/536780\n",
    "- https://en.wikipedia.org/wiki/Singapore\n",
    "- https://en.wikipedia.org/wiki/Batam\n",
    "- https://en.wikipedia.org/wiki/Johor_Bahru"
   ]
  }
 ],
 "metadata": {
  "anaconda-cloud": {},
  "kernelspec": {
   "display_name": "Python [conda root]",
   "language": "python",
   "name": "conda-root-py"
  },
  "language_info": {
   "codemirror_mode": {
    "name": "ipython",
    "version": 2
   },
   "file_extension": ".py",
   "mimetype": "text/x-python",
   "name": "python",
   "nbconvert_exporter": "python",
   "pygments_lexer": "ipython2",
   "version": "2.7.12"
  }
 },
 "nbformat": 4,
 "nbformat_minor": 1
}
